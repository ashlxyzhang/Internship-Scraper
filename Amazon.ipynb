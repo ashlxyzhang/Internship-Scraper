{
 "cells": [
  {
   "cell_type": "code",
   "execution_count": 2,
   "metadata": {},
   "outputs": [],
   "source": [
    "import os\n",
    "import pandas as pd\n",
    "import time\n",
    "from selenium import webdriver\n",
    "from selenium.webdriver.common.by import By\n",
    "from selenium.webdriver.support.ui import WebDriverWait\n",
    "from selenium.webdriver.support import expected_conditions as EC"
   ]
  },
  {
   "cell_type": "code",
   "execution_count": 4,
   "metadata": {},
   "outputs": [],
   "source": [
    "driver = webdriver.Chrome()"
   ]
  },
  {
   "cell_type": "code",
   "execution_count": 5,
   "metadata": {},
   "outputs": [],
   "source": [
    "url = \"https://amazon.jobs/en/search?offset=0&result_limit=10&sort=recent&country%5B%5D=USA&category_type=studentprograms\"\n",
    "driver.get(url)"
   ]
  },
  {
   "cell_type": "code",
   "execution_count": 10,
   "metadata": {},
   "outputs": [],
   "source": [
    "def get_data(data):\n",
    "    try:\n",
    "        internships = WebDriverWait(driver, 10).until(\n",
    "            EC.presence_of_all_elements_located((By.CSS_SELECTOR, \".job-link\"))\n",
    "        )\n",
    "        for i in internships:\n",
    "            href = i.get_attribute(\"href\")\n",
    "            title = i.text\n",
    "            if title != '':\n",
    "                data.append([title, href])\n",
    "        return data\n",
    "    finally:\n",
    "        print(\"done\")"
   ]
  },
  {
   "cell_type": "code",
   "execution_count": 11,
   "metadata": {},
   "outputs": [
    {
     "name": "stdout",
     "output_type": "stream",
     "text": [
      "done\n",
      "[['2024 Summer Applied Science Internship - United States, Masters Student Science Recruiting', 'https://amazon.jobs/en/jobs/2553422/2024-summer-applied-science-internship-united-states-masters-student-science-recruiting'], ['2024 Summer Applied Science Internship - Computer Vision and Robotics - United States, PhD Student Science Recruiting', 'https://amazon.jobs/en/jobs/2552587/2024-summer-applied-science-internship-computer-vision-and-robotics-united-states-phd-student-science-recruiting'], ['2024 Summer Applied Science Internship - Automated Reasoning and Storage Systems - United States, PhD Student Science Recruiting', 'https://amazon.jobs/en/jobs/2552595/2024-summer-applied-science-internship-automated-reasoning-and-storage-systems-united-states-phd-student-science-recruiting'], ['2024 Summer Research Science Internship - United States, PhD Student Science Recruiting', 'https://amazon.jobs/en/jobs/2552588/2024-summer-research-science-internship-united-states-phd-student-science-recruiting'], ['2024 Summer Applied Science Internship - Machine Learning - United States, PhD Student Science Recruiting', 'https://amazon.jobs/en/jobs/2552584/2024-summer-applied-science-internship-machine-learning-united-states-phd-student-science-recruiting'], ['2024 Summer Applied Science Internship - Natural Language Processing and Speech Technologies - United States, PhD Student Science Recruiting', 'https://amazon.jobs/en/jobs/2552585/2024-summer-applied-science-internship-natural-language-processing-and-speech-technologies-united-states-phd-student-science-recruiting'], ['2024 Assistant Store Manager, Amazon Fresh Stores', 'https://amazon.jobs/en/jobs/2550773/2024-assistant-store-manager-amazon-fresh-stores'], ['Creative Marketing Intern - Post, XCM (Cross-Channel Marketing)', 'https://amazon.jobs/en/jobs/2539710/creative-marketing-intern-post-xcm-cross-channel-marketing'], ['Security Engineer Internship - 2024 (US)', 'https://amazon.jobs/en/jobs/2522449/security-engineer-internship-2024-us'], ['Amazon Student Fellowship Internship, Student Science Recruiting', 'https://amazon.jobs/en/jobs/2455628/amazon-student-fellowship-internship-student-science-recruiting']]\n"
     ]
    }
   ],
   "source": [
    "data = get_data([])\n",
    "print(data)"
   ]
  },
  {
   "cell_type": "code",
   "execution_count": 13,
   "metadata": {},
   "outputs": [
    {
     "data": {
      "text/html": [
       "<div>\n",
       "<style scoped>\n",
       "    .dataframe tbody tr th:only-of-type {\n",
       "        vertical-align: middle;\n",
       "    }\n",
       "\n",
       "    .dataframe tbody tr th {\n",
       "        vertical-align: top;\n",
       "    }\n",
       "\n",
       "    .dataframe thead th {\n",
       "        text-align: right;\n",
       "    }\n",
       "</style>\n",
       "<table border=\"1\" class=\"dataframe\">\n",
       "  <thead>\n",
       "    <tr style=\"text-align: right;\">\n",
       "      <th></th>\n",
       "      <th>Name</th>\n",
       "      <th>Link</th>\n",
       "    </tr>\n",
       "  </thead>\n",
       "  <tbody>\n",
       "    <tr>\n",
       "      <th>0</th>\n",
       "      <td>2024 Summer Applied Science Internship - Unite...</td>\n",
       "      <td>https://amazon.jobs/en/jobs/2553422/2024-summe...</td>\n",
       "    </tr>\n",
       "    <tr>\n",
       "      <th>1</th>\n",
       "      <td>2024 Summer Applied Science Internship - Compu...</td>\n",
       "      <td>https://amazon.jobs/en/jobs/2552587/2024-summe...</td>\n",
       "    </tr>\n",
       "    <tr>\n",
       "      <th>2</th>\n",
       "      <td>2024 Summer Applied Science Internship - Autom...</td>\n",
       "      <td>https://amazon.jobs/en/jobs/2552595/2024-summe...</td>\n",
       "    </tr>\n",
       "    <tr>\n",
       "      <th>3</th>\n",
       "      <td>2024 Summer Research Science Internship - Unit...</td>\n",
       "      <td>https://amazon.jobs/en/jobs/2552588/2024-summe...</td>\n",
       "    </tr>\n",
       "    <tr>\n",
       "      <th>4</th>\n",
       "      <td>2024 Summer Applied Science Internship - Machi...</td>\n",
       "      <td>https://amazon.jobs/en/jobs/2552584/2024-summe...</td>\n",
       "    </tr>\n",
       "    <tr>\n",
       "      <th>5</th>\n",
       "      <td>2024 Summer Applied Science Internship - Natur...</td>\n",
       "      <td>https://amazon.jobs/en/jobs/2552585/2024-summe...</td>\n",
       "    </tr>\n",
       "    <tr>\n",
       "      <th>6</th>\n",
       "      <td>2024 Assistant Store Manager, Amazon Fresh Stores</td>\n",
       "      <td>https://amazon.jobs/en/jobs/2550773/2024-assis...</td>\n",
       "    </tr>\n",
       "    <tr>\n",
       "      <th>7</th>\n",
       "      <td>Creative Marketing Intern - Post, XCM (Cross-C...</td>\n",
       "      <td>https://amazon.jobs/en/jobs/2539710/creative-m...</td>\n",
       "    </tr>\n",
       "    <tr>\n",
       "      <th>8</th>\n",
       "      <td>Security Engineer Internship - 2024 (US)</td>\n",
       "      <td>https://amazon.jobs/en/jobs/2522449/security-e...</td>\n",
       "    </tr>\n",
       "    <tr>\n",
       "      <th>9</th>\n",
       "      <td>Amazon Student Fellowship Internship, Student ...</td>\n",
       "      <td>https://amazon.jobs/en/jobs/2455628/amazon-stu...</td>\n",
       "    </tr>\n",
       "  </tbody>\n",
       "</table>\n",
       "</div>"
      ],
      "text/plain": [
       "                                                Name  \\\n",
       "0  2024 Summer Applied Science Internship - Unite...   \n",
       "1  2024 Summer Applied Science Internship - Compu...   \n",
       "2  2024 Summer Applied Science Internship - Autom...   \n",
       "3  2024 Summer Research Science Internship - Unit...   \n",
       "4  2024 Summer Applied Science Internship - Machi...   \n",
       "5  2024 Summer Applied Science Internship - Natur...   \n",
       "6  2024 Assistant Store Manager, Amazon Fresh Stores   \n",
       "7  Creative Marketing Intern - Post, XCM (Cross-C...   \n",
       "8           Security Engineer Internship - 2024 (US)   \n",
       "9  Amazon Student Fellowship Internship, Student ...   \n",
       "\n",
       "                                                Link  \n",
       "0  https://amazon.jobs/en/jobs/2553422/2024-summe...  \n",
       "1  https://amazon.jobs/en/jobs/2552587/2024-summe...  \n",
       "2  https://amazon.jobs/en/jobs/2552595/2024-summe...  \n",
       "3  https://amazon.jobs/en/jobs/2552588/2024-summe...  \n",
       "4  https://amazon.jobs/en/jobs/2552584/2024-summe...  \n",
       "5  https://amazon.jobs/en/jobs/2552585/2024-summe...  \n",
       "6  https://amazon.jobs/en/jobs/2550773/2024-assis...  \n",
       "7  https://amazon.jobs/en/jobs/2539710/creative-m...  \n",
       "8  https://amazon.jobs/en/jobs/2522449/security-e...  \n",
       "9  https://amazon.jobs/en/jobs/2455628/amazon-stu...  "
      ]
     },
     "execution_count": 13,
     "metadata": {},
     "output_type": "execute_result"
    }
   ],
   "source": [
    "df = pd.DataFrame(data, columns=[\"Name\", \"Link\"])\n",
    "df"
   ]
  }
 ],
 "metadata": {
  "kernelspec": {
   "display_name": "Python 3",
   "language": "python",
   "name": "python3"
  },
  "language_info": {
   "codemirror_mode": {
    "name": "ipython",
    "version": 3
   },
   "file_extension": ".py",
   "mimetype": "text/x-python",
   "name": "python",
   "nbconvert_exporter": "python",
   "pygments_lexer": "ipython3",
   "version": "3.9.13"
  }
 },
 "nbformat": 4,
 "nbformat_minor": 2
}
