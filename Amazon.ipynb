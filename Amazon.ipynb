{
 "cells": [
  {
   "cell_type": "code",
<<<<<<< HEAD
   "execution_count": 35,
=======
   "execution_count": 2,
>>>>>>> 7163993 (testing)
   "metadata": {},
   "outputs": [],
   "source": [
    "import os\n",
    "import pandas as pd\n",
    "import time\n",
    "from selenium import webdriver\n",
    "from selenium.webdriver.common.by import By\n",
    "from selenium.webdriver.support.ui import WebDriverWait\n",
    "from selenium.webdriver.support import expected_conditions as EC\n",
    "from selenium.common.exceptions import NoSuchElementException, TimeoutException"
   ]
  },
  {
   "cell_type": "code",
<<<<<<< HEAD
   "execution_count": 36,
=======
   "execution_count": 3,
>>>>>>> 7163993 (testing)
   "metadata": {},
   "outputs": [],
   "source": [
    "driver = webdriver.Chrome()"
   ]
  },
  {
   "cell_type": "code",
<<<<<<< HEAD
   "execution_count": 37,
=======
   "execution_count": 4,
>>>>>>> 7163993 (testing)
   "metadata": {},
   "outputs": [],
   "source": [
    "url = \"https://amazon.jobs/en/search?offset=0&result_limit=10&sort=recent&country%5B%5D=USA&category_type=studentprograms\"\n",
    "driver.get(url)"
   ]
  },
  {
   "cell_type": "code",
<<<<<<< HEAD
   "execution_count": 38,
=======
   "execution_count": 5,
>>>>>>> 7163993 (testing)
   "metadata": {},
   "outputs": [],
   "source": [
    "def get_data(data):\n",
    "    try:\n",
    "        internships = WebDriverWait(driver, 10).until(\n",
    "            EC.presence_of_all_elements_located((By.CSS_SELECTOR, \".job-link\"))\n",
    "        )\n",
    "        for i in internships:\n",
    "            href = i.get_attribute(\"href\")\n",
    "            title = i.text\n",
    "            if title != '':\n",
    "                data.append([title, href])\n",
    "        return data\n",
    "    finally:\n",
    "        print(\"done\")"
   ]
  },
  {
   "cell_type": "code",
<<<<<<< HEAD
   "execution_count": 39,
=======
   "execution_count": 6,
>>>>>>> 7163993 (testing)
   "metadata": {},
   "outputs": [],
   "source": [
    "def get_all_data(data):\n",
    "    try:\n",
    "        data = get_data(data)\n",
    "        cookies = driver.find_element(By.ID, \"btn-reject-cookies\")\n",
    "        cookies.click()\n",
    "        btn = driver.find_element(By.CSS_SELECTOR, \".btn.circle.right\")\n",
    "        btn.click()\n",
    "        time.sleep(1)\n",
    "        while btn != None:\n",
    "            data = get_data(data)\n",
    "            btn = driver.find_element(By.CSS_SELECTOR, \".btn.circle.right\")\n",
    "            btn.click()\n",
    "            time.sleep(1)\n",
    "    except NoSuchElementException:\n",
    "        print(\"all done\")\n",
    "        return data"
   ]
  },
  {
   "cell_type": "code",
<<<<<<< HEAD
   "execution_count": 40,
=======
   "execution_count": 7,
>>>>>>> 7163993 (testing)
   "metadata": {},
   "outputs": [
    {
     "name": "stdout",
     "output_type": "stream",
     "text": [
      "done\n",
<<<<<<< HEAD
      "done\n",
      "all done\n",
      "[['2024 Amazon Account Manager, DSP Shared Services - Full-Time - May/June Start Date (Entry-Level)', 'https://amazon.jobs/en/jobs/2589417/2024-amazon-account-manager-dsp-shared-services-full-time-may-june-start-date-entry-level'], ['2024 Summer Applied Science Internship - United States, Masters Student Science Recruiting', 'https://amazon.jobs/en/jobs/2553422/2024-summer-applied-science-internship-united-states-masters-student-science-recruiting'], ['2024 Summer Applied Science Internship - Computer Vision and Robotics - United States, PhD Student Science Recruiting', 'https://amazon.jobs/en/jobs/2552587/2024-summer-applied-science-internship-computer-vision-and-robotics-united-states-phd-student-science-recruiting'], ['2024 Summer Applied Science Internship - Automated Reasoning and Storage Systems - United States, PhD Student Science Recruiting', 'https://amazon.jobs/en/jobs/2552595/2024-summer-applied-science-internship-automated-reasoning-and-storage-systems-united-states-phd-student-science-recruiting'], ['2024 Summer Research Science Internship - United States, PhD Student Science Recruiting', 'https://amazon.jobs/en/jobs/2552588/2024-summer-research-science-internship-united-states-phd-student-science-recruiting'], ['2024 Summer Applied Science Internship - Machine Learning - United States, PhD Student Science Recruiting', 'https://amazon.jobs/en/jobs/2552584/2024-summer-applied-science-internship-machine-learning-united-states-phd-student-science-recruiting'], ['2024 Summer Applied Science Internship - Natural Language Processing and Speech Technologies - United States, PhD Student Science Recruiting', 'https://amazon.jobs/en/jobs/2552585/2024-summer-applied-science-internship-natural-language-processing-and-speech-technologies-united-states-phd-student-science-recruiting'], ['2024 Assistant Store Manager, Amazon Fresh Stores', 'https://amazon.jobs/en/jobs/2550773/2024-assistant-store-manager-amazon-fresh-stores'], ['Creative Marketing Intern - Post, XCM (Cross-Channel Marketing)', 'https://amazon.jobs/en/jobs/2539710/creative-marketing-intern-post-xcm-cross-channel-marketing'], ['Security Engineer Internship - 2024 (US)', 'https://amazon.jobs/en/jobs/2522449/security-engineer-internship-2024-us'], ['Amazon Student Fellowship Internship, Student Science Recruiting', 'https://amazon.jobs/en/jobs/2455628/amazon-student-fellowship-internship-student-science-recruiting'], ['Hardware Development Engineer Internship – 2024 (US)', 'https://amazon.jobs/en/jobs/2398525/hardware-development-engineer-internship-2024-us'], ['Data Engineer Internship – 2024 (US)', 'https://amazon.jobs/en/jobs/2404306/data-engineer-internship-2024-us'], ['Business Intelligence Engineer Internship – 2024 (US)', 'https://amazon.jobs/en/jobs/2404304/business-intelligence-engineer-internship-2024-us'], ['Hardware Development Engineer – 2024 (US)', 'https://amazon.jobs/en/jobs/2398522/hardware-development-engineer-2024-us'], ['Design Technologist Internship – 2024 (US)', 'https://amazon.jobs/en/jobs/2398552/design-technologist-internship-2024-us'], ['Software Development Engineer Internship - 2024 (US)', 'https://amazon.jobs/en/jobs/2408098/software-development-engineer-internship-2024-us']]\n"
=======
      "all done\n",
      "[['Hardware Development Engineer Co-Op - Fall 2024 (US)', 'https://amazon.jobs/en/jobs/2651020/hardware-development-engineer-co-op-fall-2024-us'], ['2025 AFRP Accounting - Intern', 'https://amazon.jobs/en/jobs/2648556/2025-afrp-accounting-intern'], ['Software Development Engineer - 2024 (US)', 'https://amazon.jobs/en/jobs/2644301/software-development-engineer-2024-us'], ['Application-Specific Integrated Circuit (ASIC) Engineer – 2024 (US)', 'https://amazon.jobs/en/jobs/2628409/application-specific-integrated-circuit-asic-engineer-2024-us'], ['Hardware Development Engineer Fall Internship – 2024 (US)', 'https://amazon.jobs/en/jobs/2620668/hardware-development-engineer-fall-internship-2024-us'], ['2024 Fall Research Science Internship - United States, PhD Student', 'https://amazon.jobs/en/jobs/2615037/2024-fall-research-science-internship-united-states-phd-student'], ['2024 Fall Data Science Internship - United States, PhD or Masters Student', 'https://amazon.jobs/en/jobs/2615002/2024-fall-data-science-internship-united-states-phd-or-masters-student'], ['2024 Fall Applied Science Internship - United States, PhD Student', 'https://amazon.jobs/en/jobs/2615041/2024-fall-applied-science-internship-united-states-phd-student'], ['2024 Fall Applied Science Internship - United States, Masters Student', 'https://amazon.jobs/en/jobs/2614985/2024-fall-applied-science-internship-united-states-masters-student']]\n"
>>>>>>> 7163993 (testing)
     ]
    }
   ],
   "source": [
    "data = get_all_data([])\n",
    "print(data)"
   ]
  },
  {
   "cell_type": "code",
<<<<<<< HEAD
   "execution_count": 41,
=======
   "execution_count": 8,
>>>>>>> 7163993 (testing)
   "metadata": {},
   "outputs": [
    {
     "data": {
      "text/html": [
       "<div>\n",
       "<style scoped>\n",
       "    .dataframe tbody tr th:only-of-type {\n",
       "        vertical-align: middle;\n",
       "    }\n",
       "\n",
       "    .dataframe tbody tr th {\n",
       "        vertical-align: top;\n",
       "    }\n",
       "\n",
       "    .dataframe thead th {\n",
       "        text-align: right;\n",
       "    }\n",
       "</style>\n",
       "<table border=\"1\" class=\"dataframe\">\n",
       "  <thead>\n",
       "    <tr style=\"text-align: right;\">\n",
       "      <th></th>\n",
       "      <th>Name</th>\n",
       "      <th>Link</th>\n",
       "    </tr>\n",
       "  </thead>\n",
       "  <tbody>\n",
       "    <tr>\n",
       "      <th>0</th>\n",
<<<<<<< HEAD
       "      <td>2024 Amazon Account Manager, DSP Shared Servic...</td>\n",
       "      <td>https://amazon.jobs/en/jobs/2589417/2024-amazo...</td>\n",
       "    </tr>\n",
       "    <tr>\n",
       "      <th>1</th>\n",
       "      <td>2024 Summer Applied Science Internship - Unite...</td>\n",
       "      <td>https://amazon.jobs/en/jobs/2553422/2024-summe...</td>\n",
       "    </tr>\n",
       "    <tr>\n",
       "      <th>2</th>\n",
       "      <td>2024 Summer Applied Science Internship - Compu...</td>\n",
       "      <td>https://amazon.jobs/en/jobs/2552587/2024-summe...</td>\n",
       "    </tr>\n",
       "    <tr>\n",
       "      <th>3</th>\n",
       "      <td>2024 Summer Applied Science Internship - Autom...</td>\n",
       "      <td>https://amazon.jobs/en/jobs/2552595/2024-summe...</td>\n",
       "    </tr>\n",
       "    <tr>\n",
       "      <th>4</th>\n",
       "      <td>2024 Summer Research Science Internship - Unit...</td>\n",
       "      <td>https://amazon.jobs/en/jobs/2552588/2024-summe...</td>\n",
       "    </tr>\n",
       "    <tr>\n",
       "      <th>5</th>\n",
       "      <td>2024 Summer Applied Science Internship - Machi...</td>\n",
       "      <td>https://amazon.jobs/en/jobs/2552584/2024-summe...</td>\n",
       "    </tr>\n",
       "    <tr>\n",
       "      <th>6</th>\n",
       "      <td>2024 Summer Applied Science Internship - Natur...</td>\n",
       "      <td>https://amazon.jobs/en/jobs/2552585/2024-summe...</td>\n",
       "    </tr>\n",
       "    <tr>\n",
       "      <th>7</th>\n",
       "      <td>2024 Assistant Store Manager, Amazon Fresh Stores</td>\n",
       "      <td>https://amazon.jobs/en/jobs/2550773/2024-assis...</td>\n",
       "    </tr>\n",
       "    <tr>\n",
       "      <th>8</th>\n",
       "      <td>Creative Marketing Intern - Post, XCM (Cross-C...</td>\n",
       "      <td>https://amazon.jobs/en/jobs/2539710/creative-m...</td>\n",
       "    </tr>\n",
       "    <tr>\n",
       "      <th>9</th>\n",
       "      <td>Security Engineer Internship - 2024 (US)</td>\n",
       "      <td>https://amazon.jobs/en/jobs/2522449/security-e...</td>\n",
       "    </tr>\n",
       "    <tr>\n",
       "      <th>10</th>\n",
       "      <td>Amazon Student Fellowship Internship, Student ...</td>\n",
       "      <td>https://amazon.jobs/en/jobs/2455628/amazon-stu...</td>\n",
       "    </tr>\n",
       "    <tr>\n",
       "      <th>11</th>\n",
       "      <td>Hardware Development Engineer Internship – 202...</td>\n",
       "      <td>https://amazon.jobs/en/jobs/2398525/hardware-d...</td>\n",
       "    </tr>\n",
       "    <tr>\n",
       "      <th>12</th>\n",
       "      <td>Data Engineer Internship – 2024 (US)</td>\n",
       "      <td>https://amazon.jobs/en/jobs/2404306/data-engin...</td>\n",
       "    </tr>\n",
       "    <tr>\n",
       "      <th>13</th>\n",
       "      <td>Business Intelligence Engineer Internship – 20...</td>\n",
       "      <td>https://amazon.jobs/en/jobs/2404304/business-i...</td>\n",
       "    </tr>\n",
       "    <tr>\n",
       "      <th>14</th>\n",
       "      <td>Hardware Development Engineer – 2024 (US)</td>\n",
       "      <td>https://amazon.jobs/en/jobs/2398522/hardware-d...</td>\n",
       "    </tr>\n",
       "    <tr>\n",
       "      <th>15</th>\n",
       "      <td>Design Technologist Internship – 2024 (US)</td>\n",
       "      <td>https://amazon.jobs/en/jobs/2398552/design-tec...</td>\n",
       "    </tr>\n",
       "    <tr>\n",
       "      <th>16</th>\n",
       "      <td>Software Development Engineer Internship - 202...</td>\n",
       "      <td>https://amazon.jobs/en/jobs/2408098/software-d...</td>\n",
=======
       "      <td>Hardware Development Engineer Co-Op - Fall 202...</td>\n",
       "      <td>https://amazon.jobs/en/jobs/2651020/hardware-d...</td>\n",
       "    </tr>\n",
       "    <tr>\n",
       "      <th>1</th>\n",
       "      <td>2025 AFRP Accounting - Intern</td>\n",
       "      <td>https://amazon.jobs/en/jobs/2648556/2025-afrp-...</td>\n",
       "    </tr>\n",
       "    <tr>\n",
       "      <th>2</th>\n",
       "      <td>Software Development Engineer - 2024 (US)</td>\n",
       "      <td>https://amazon.jobs/en/jobs/2644301/software-d...</td>\n",
       "    </tr>\n",
       "    <tr>\n",
       "      <th>3</th>\n",
       "      <td>Application-Specific Integrated Circuit (ASIC)...</td>\n",
       "      <td>https://amazon.jobs/en/jobs/2628409/applicatio...</td>\n",
       "    </tr>\n",
       "    <tr>\n",
       "      <th>4</th>\n",
       "      <td>Hardware Development Engineer Fall Internship ...</td>\n",
       "      <td>https://amazon.jobs/en/jobs/2620668/hardware-d...</td>\n",
       "    </tr>\n",
       "    <tr>\n",
       "      <th>5</th>\n",
       "      <td>2024 Fall Research Science Internship - United...</td>\n",
       "      <td>https://amazon.jobs/en/jobs/2615037/2024-fall-...</td>\n",
       "    </tr>\n",
       "    <tr>\n",
       "      <th>6</th>\n",
       "      <td>2024 Fall Data Science Internship - United Sta...</td>\n",
       "      <td>https://amazon.jobs/en/jobs/2615002/2024-fall-...</td>\n",
       "    </tr>\n",
       "    <tr>\n",
       "      <th>7</th>\n",
       "      <td>2024 Fall Applied Science Internship - United ...</td>\n",
       "      <td>https://amazon.jobs/en/jobs/2615041/2024-fall-...</td>\n",
       "    </tr>\n",
       "    <tr>\n",
       "      <th>8</th>\n",
       "      <td>2024 Fall Applied Science Internship - United ...</td>\n",
       "      <td>https://amazon.jobs/en/jobs/2614985/2024-fall-...</td>\n",
>>>>>>> 7163993 (testing)
       "    </tr>\n",
       "  </tbody>\n",
       "</table>\n",
       "</div>"
      ],
      "text/plain": [
<<<<<<< HEAD
       "                                                 Name  \\\n",
       "0   2024 Amazon Account Manager, DSP Shared Servic...   \n",
       "1   2024 Summer Applied Science Internship - Unite...   \n",
       "2   2024 Summer Applied Science Internship - Compu...   \n",
       "3   2024 Summer Applied Science Internship - Autom...   \n",
       "4   2024 Summer Research Science Internship - Unit...   \n",
       "5   2024 Summer Applied Science Internship - Machi...   \n",
       "6   2024 Summer Applied Science Internship - Natur...   \n",
       "7   2024 Assistant Store Manager, Amazon Fresh Stores   \n",
       "8   Creative Marketing Intern - Post, XCM (Cross-C...   \n",
       "9            Security Engineer Internship - 2024 (US)   \n",
       "10  Amazon Student Fellowship Internship, Student ...   \n",
       "11  Hardware Development Engineer Internship – 202...   \n",
       "12               Data Engineer Internship – 2024 (US)   \n",
       "13  Business Intelligence Engineer Internship – 20...   \n",
       "14          Hardware Development Engineer – 2024 (US)   \n",
       "15         Design Technologist Internship – 2024 (US)   \n",
       "16  Software Development Engineer Internship - 202...   \n",
       "\n",
       "                                                 Link  \n",
       "0   https://amazon.jobs/en/jobs/2589417/2024-amazo...  \n",
       "1   https://amazon.jobs/en/jobs/2553422/2024-summe...  \n",
       "2   https://amazon.jobs/en/jobs/2552587/2024-summe...  \n",
       "3   https://amazon.jobs/en/jobs/2552595/2024-summe...  \n",
       "4   https://amazon.jobs/en/jobs/2552588/2024-summe...  \n",
       "5   https://amazon.jobs/en/jobs/2552584/2024-summe...  \n",
       "6   https://amazon.jobs/en/jobs/2552585/2024-summe...  \n",
       "7   https://amazon.jobs/en/jobs/2550773/2024-assis...  \n",
       "8   https://amazon.jobs/en/jobs/2539710/creative-m...  \n",
       "9   https://amazon.jobs/en/jobs/2522449/security-e...  \n",
       "10  https://amazon.jobs/en/jobs/2455628/amazon-stu...  \n",
       "11  https://amazon.jobs/en/jobs/2398525/hardware-d...  \n",
       "12  https://amazon.jobs/en/jobs/2404306/data-engin...  \n",
       "13  https://amazon.jobs/en/jobs/2404304/business-i...  \n",
       "14  https://amazon.jobs/en/jobs/2398522/hardware-d...  \n",
       "15  https://amazon.jobs/en/jobs/2398552/design-tec...  \n",
       "16  https://amazon.jobs/en/jobs/2408098/software-d...  "
      ]
     },
     "execution_count": 41,
=======
       "                                                Name  \\\n",
       "0  Hardware Development Engineer Co-Op - Fall 202...   \n",
       "1                      2025 AFRP Accounting - Intern   \n",
       "2          Software Development Engineer - 2024 (US)   \n",
       "3  Application-Specific Integrated Circuit (ASIC)...   \n",
       "4  Hardware Development Engineer Fall Internship ...   \n",
       "5  2024 Fall Research Science Internship - United...   \n",
       "6  2024 Fall Data Science Internship - United Sta...   \n",
       "7  2024 Fall Applied Science Internship - United ...   \n",
       "8  2024 Fall Applied Science Internship - United ...   \n",
       "\n",
       "                                                Link  \n",
       "0  https://amazon.jobs/en/jobs/2651020/hardware-d...  \n",
       "1  https://amazon.jobs/en/jobs/2648556/2025-afrp-...  \n",
       "2  https://amazon.jobs/en/jobs/2644301/software-d...  \n",
       "3  https://amazon.jobs/en/jobs/2628409/applicatio...  \n",
       "4  https://amazon.jobs/en/jobs/2620668/hardware-d...  \n",
       "5  https://amazon.jobs/en/jobs/2615037/2024-fall-...  \n",
       "6  https://amazon.jobs/en/jobs/2615002/2024-fall-...  \n",
       "7  https://amazon.jobs/en/jobs/2615041/2024-fall-...  \n",
       "8  https://amazon.jobs/en/jobs/2614985/2024-fall-...  "
      ]
     },
     "execution_count": 8,
>>>>>>> 7163993 (testing)
     "metadata": {},
     "output_type": "execute_result"
    }
   ],
   "source": [
    "df = pd.DataFrame(data, columns=[\"Name\", \"Link\"])\n",
    "df"
   ]
  }
 ],
 "metadata": {
  "kernelspec": {
   "display_name": "Python 3",
   "language": "python",
   "name": "python3"
  },
  "language_info": {
   "codemirror_mode": {
    "name": "ipython",
    "version": 3
   },
   "file_extension": ".py",
   "mimetype": "text/x-python",
   "name": "python",
   "nbconvert_exporter": "python",
   "pygments_lexer": "ipython3",
<<<<<<< HEAD
   "version": "3.9.13"
=======
   "version": "3.11.8"
>>>>>>> 7163993 (testing)
  }
 },
 "nbformat": 4,
 "nbformat_minor": 2
}
