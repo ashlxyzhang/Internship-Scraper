{
 "cells": [
  {
   "cell_type": "code",
<<<<<<< HEAD
   "execution_count": 129,
=======
   "execution_count": 1,
>>>>>>> 7163993 (testing)
   "metadata": {},
   "outputs": [],
   "source": [
    "import os\n",
    "import pandas as pd\n",
    "import time\n",
    "from selenium import webdriver\n",
    "from selenium.webdriver.common.by import By\n",
    "from selenium.webdriver.support.ui import WebDriverWait\n",
    "from selenium.webdriver.support import expected_conditions as EC"
   ]
  },
  {
   "cell_type": "code",
<<<<<<< HEAD
   "execution_count": 130,
=======
   "execution_count": 2,
>>>>>>> 7163993 (testing)
   "metadata": {},
   "outputs": [],
   "source": [
    "chromedriver_path = \"/Users/ashley/Downloads/chromedriver-mac-arm64\"\n",
    "os.environ['PATH'] += os.pathsep + chromedriver_path"
   ]
  },
  {
   "cell_type": "code",
<<<<<<< HEAD
   "execution_count": 131,
=======
   "execution_count": 3,
>>>>>>> 7163993 (testing)
   "metadata": {},
   "outputs": [],
   "source": [
    "driver = webdriver.Chrome()"
   ]
  },
  {
   "cell_type": "code",
<<<<<<< HEAD
   "execution_count": 132,
=======
   "execution_count": 4,
>>>>>>> 7163993 (testing)
   "metadata": {},
   "outputs": [],
   "source": [
    "url = \"https://careers.walmart.com/results?q=2024&page=1&sort=date&jobCategory=00000159-759e-d286-a3f9-7fbe44710000,00000159-75a2-d286-a3f9-7fa2bac60000,00000159-75a8-d2b4-abdd-f5af3e670000,00000159-7627-d286-a3f9-7ea7d10c0000,00000161-8bda-d3dd-a1fd-bbda62130000,00000161-7bf4-da32-a37b-fbf7c59e0000,00000161-8bd0-d3dd-a1fd-bbd0febc0000,00000161-8be6-da32-a37b-cbe70c150000&jobSubCategory=0000015a-a527-d752-a75a-f7f73e820000,00000188-e346-df4d-affe-effebb320000,0000018b-48a2-d283-abeb-5afe854e0000,0000018b-492e-da98-adfb-79ef66c60000,0000018b-482e-dbdf-a19b-6fbe62a80000,0000018b-48e0-dd60-a3af-6dfd11120000,0000018b-492b-de4a-ad9f-59ff1a230000,0000018b-484c-de4a-ad9f-58df75a80000,0000018b-491b-d494-a3cb-ed9b5efc0000,0000018b-491e-de4a-ad9f-59df415f0000,0000018b-491f-d494-a3cb-ed9f2fff0000,0000018b-4921-dbdf-a19b-6fbf76cc0000,0000015a-a52a-d06d-af5f-f5bb06450000,0000018b-4831-d283-abeb-5a7d7b260000,0000018b-485e-da98-adfb-78ff5f550000,0000018b-4860-d283-abeb-5a7c5d410000,0000018b-4920-d494-a3cb-edb3f3c30000,0000018b-4926-dbdf-a19b-6fbe42760000,0000017c-a4f6-dfa9-a77d-acf64f2f0000,0000018b-48dd-de4a-ad9f-58dffc9d0000,0000018b-4926-da98-adfb-79e7eca60000,0000018b-492b-de4a-ad9f-59ffa0d10000,0000018b-492d-de4a-ad9f-59ff17530000,0000018b-492c-d283-abeb-5b7c8e360000&jobEmploymentType=0000015a-721c-de53-ab7e-767e668d0000&expand=department,brand,type,rate&type=jobs\"\n",
    "driver.get(url)"
   ]
  },
  {
   "cell_type": "code",
<<<<<<< HEAD
   "execution_count": 133,
=======
   "execution_count": 5,
>>>>>>> 7163993 (testing)
   "metadata": {},
   "outputs": [
    {
     "name": "stdout",
     "output_type": "stream",
     "text": [
      "no location \n"
     ]
    }
   ],
   "source": [
    "try:\n",
    "    loc = WebDriverWait(driver, 10).until(\n",
    "        EC.presence_of_element_located((By.ID, 'location'))\n",
    "    )\n",
    "    time.sleep(7)\n",
    "    loc.click()\n",
    "finally:\n",
    "    print(\"no location \")"
   ]
  },
  {
   "cell_type": "code",
<<<<<<< HEAD
   "execution_count": 134,
=======
   "execution_count": 6,
>>>>>>> 7163993 (testing)
   "metadata": {},
   "outputs": [],
   "source": [
    "def get_data(data):\n",
    "    try:\n",
    "        internships = WebDriverWait(driver, 10).until(\n",
    "            EC.presence_of_all_elements_located((By.CSS_SELECTOR, '.job-listing__link'))\n",
    "        )\n",
    "        for internship in internships:\n",
    "            href = internship.get_attribute(\"href\")\n",
    "            title = internship.text\n",
    "            if title != \"\":\n",
    "                data.append([title, href])\n",
    "        \n",
    "        return data\n",
    "\n",
    "    finally:\n",
    "        print(\"done\")\n"
   ]
  },
  {
   "cell_type": "code",
<<<<<<< HEAD
   "execution_count": 135,
=======
   "execution_count": 7,
>>>>>>> 7163993 (testing)
   "metadata": {},
   "outputs": [
    {
     "name": "stdout",
     "output_type": "stream",
     "text": [
      "done\n",
<<<<<<< HEAD
      "[[\"2024 Sam's Club International Merchandising Program\", 'https://careers.walmart.com/us/jobs/WD1724733-2024-sams-club-international-merchandising-program'], ['Spring 2024 Sophomore Summit: Software Engineer', 'https://careers.walmart.com/us/jobs/WD1774020-spring-2024-sophomore-summit-software-engineer'], ['Spring 2024 Sophomore Summit: Sam’s Club Marketing & Membership', 'https://careers.walmart.com/us/jobs/WD1783209-spring-2024-sophomore-summit-sams-club-marketing-membership'], ['Spring 2024 Sophomore Summit: Sam’s Club Supply Chain', 'https://careers.walmart.com/us/jobs/WD1774047-spring-2024-sophomore-summit-sams-club-supply-chain'], ['Spring 2024 Sophomore Summit: Merchandising', 'https://careers.walmart.com/us/jobs/WD1774024-spring-2024-sophomore-summit-merchandising'], ['Spring 2024 Sophomore Summit: Finance & Audit', 'https://careers.walmart.com/us/jobs/WD1774030-spring-2024-sophomore-summit-finance-audit']]\n"
=======
      "[['Spring 2024 Sophomore Summit: Finance & Audit', 'https://careers.walmart.com/us/jobs/WD1774030-spring-2024-sophomore-summit-finance-audit']]\n"
>>>>>>> 7163993 (testing)
     ]
    }
   ],
   "source": [
    "data = get_data([])\n",
    "print(data)"
   ]
  },
  {
   "cell_type": "code",
<<<<<<< HEAD
   "execution_count": 136,
=======
   "execution_count": 8,
>>>>>>> 7163993 (testing)
   "metadata": {},
   "outputs": [
    {
     "data": {
      "text/html": [
       "<div>\n",
       "<style scoped>\n",
       "    .dataframe tbody tr th:only-of-type {\n",
       "        vertical-align: middle;\n",
       "    }\n",
       "\n",
       "    .dataframe tbody tr th {\n",
       "        vertical-align: top;\n",
       "    }\n",
       "\n",
       "    .dataframe thead th {\n",
       "        text-align: right;\n",
       "    }\n",
       "</style>\n",
       "<table border=\"1\" class=\"dataframe\">\n",
       "  <thead>\n",
       "    <tr style=\"text-align: right;\">\n",
       "      <th></th>\n",
       "      <th>Name</th>\n",
       "      <th>Link</th>\n",
       "    </tr>\n",
       "  </thead>\n",
       "  <tbody>\n",
       "    <tr>\n",
       "      <th>0</th>\n",
<<<<<<< HEAD
       "      <td>2024 Sam's Club International Merchandising Pr...</td>\n",
       "      <td>https://careers.walmart.com/us/jobs/WD1724733-...</td>\n",
       "    </tr>\n",
       "    <tr>\n",
       "      <th>1</th>\n",
       "      <td>Spring 2024 Sophomore Summit: Software Engineer</td>\n",
       "      <td>https://careers.walmart.com/us/jobs/WD1774020-...</td>\n",
       "    </tr>\n",
       "    <tr>\n",
       "      <th>2</th>\n",
       "      <td>Spring 2024 Sophomore Summit: Sam’s Club Marke...</td>\n",
       "      <td>https://careers.walmart.com/us/jobs/WD1783209-...</td>\n",
       "    </tr>\n",
       "    <tr>\n",
       "      <th>3</th>\n",
       "      <td>Spring 2024 Sophomore Summit: Sam’s Club Suppl...</td>\n",
       "      <td>https://careers.walmart.com/us/jobs/WD1774047-...</td>\n",
       "    </tr>\n",
       "    <tr>\n",
       "      <th>4</th>\n",
       "      <td>Spring 2024 Sophomore Summit: Merchandising</td>\n",
       "      <td>https://careers.walmart.com/us/jobs/WD1774024-...</td>\n",
       "    </tr>\n",
       "    <tr>\n",
       "      <th>5</th>\n",
=======
>>>>>>> 7163993 (testing)
       "      <td>Spring 2024 Sophomore Summit: Finance &amp; Audit</td>\n",
       "      <td>https://careers.walmart.com/us/jobs/WD1774030-...</td>\n",
       "    </tr>\n",
       "  </tbody>\n",
       "</table>\n",
       "</div>"
      ],
      "text/plain": [
<<<<<<< HEAD
       "                                                Name  \\\n",
       "0  2024 Sam's Club International Merchandising Pr...   \n",
       "1    Spring 2024 Sophomore Summit: Software Engineer   \n",
       "2  Spring 2024 Sophomore Summit: Sam’s Club Marke...   \n",
       "3  Spring 2024 Sophomore Summit: Sam’s Club Suppl...   \n",
       "4        Spring 2024 Sophomore Summit: Merchandising   \n",
       "5      Spring 2024 Sophomore Summit: Finance & Audit   \n",
       "\n",
       "                                                Link  \n",
       "0  https://careers.walmart.com/us/jobs/WD1724733-...  \n",
       "1  https://careers.walmart.com/us/jobs/WD1774020-...  \n",
       "2  https://careers.walmart.com/us/jobs/WD1783209-...  \n",
       "3  https://careers.walmart.com/us/jobs/WD1774047-...  \n",
       "4  https://careers.walmart.com/us/jobs/WD1774024-...  \n",
       "5  https://careers.walmart.com/us/jobs/WD1774030-...  "
      ]
     },
     "execution_count": 136,
=======
       "                                            Name  \\\n",
       "0  Spring 2024 Sophomore Summit: Finance & Audit   \n",
       "\n",
       "                                                Link  \n",
       "0  https://careers.walmart.com/us/jobs/WD1774030-...  "
      ]
     },
     "execution_count": 8,
>>>>>>> 7163993 (testing)
     "metadata": {},
     "output_type": "execute_result"
    }
   ],
   "source": [
    "df = pd.DataFrame(data, columns=['Name', 'Link'])\n",
    "df"
   ]
  }
 ],
 "metadata": {
  "kernelspec": {
   "display_name": "Python 3",
   "language": "python",
   "name": "python3"
  },
  "language_info": {
   "codemirror_mode": {
    "name": "ipython",
    "version": 3
   },
   "file_extension": ".py",
   "mimetype": "text/x-python",
   "name": "python",
   "nbconvert_exporter": "python",
   "pygments_lexer": "ipython3",
<<<<<<< HEAD
   "version": "3.9.13"
=======
   "version": "3.11.8"
>>>>>>> 7163993 (testing)
  }
 },
 "nbformat": 4,
 "nbformat_minor": 2
}
