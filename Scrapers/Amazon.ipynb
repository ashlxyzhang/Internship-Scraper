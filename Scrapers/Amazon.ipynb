{
 "cells": [
  {
   "cell_type": "code",
   "execution_count": 2,
   "metadata": {},
   "outputs": [],
   "source": [
    "import os\n",
    "import pandas as pd\n",
    "import time\n",
    "from selenium import webdriver\n",
    "from selenium.webdriver.common.by import By\n",
    "from selenium.webdriver.support.ui import WebDriverWait\n",
    "from selenium.webdriver.support import expected_conditions as EC\n",
    "from selenium.common.exceptions import NoSuchElementException, TimeoutException"
   ]
  },
  {
   "cell_type": "code",
   "execution_count": 3,
   "metadata": {},
   "outputs": [],
   "source": [
    "driver = webdriver.Chrome()"
   ]
  },
  {
   "cell_type": "code",
   "execution_count": 4,
   "metadata": {},
   "outputs": [],
   "source": [
    "url = \"https://amazon.jobs/en/search?offset=0&result_limit=10&sort=recent&country%5B%5D=USA&category_type=studentprograms\"\n",
    "driver.get(url)"
   ]
  },
  {
   "cell_type": "code",
   "execution_count": 5,
   "metadata": {},
   "outputs": [],
   "source": [
    "def get_data(data):\n",
    "    try:\n",
    "        internships = WebDriverWait(driver, 10).until(\n",
    "            EC.presence_of_all_elements_located((By.CSS_SELECTOR, \".job-link\"))\n",
    "        )\n",
    "        for i in internships:\n",
    "            href = i.get_attribute(\"href\")\n",
    "            title = i.text\n",
    "            if title != '':\n",
    "                data.append([title, href])\n",
    "        return data\n",
    "    finally:\n",
    "        print(\"done\")"
   ]
  },
  {
   "cell_type": "code",
   "execution_count": 6,
   "metadata": {},
   "outputs": [],
   "source": [
    "def get_all_data(data):\n",
    "    try:\n",
    "        data = get_data(data)\n",
    "        cookies = driver.find_element(By.ID, \"btn-reject-cookies\")\n",
    "        cookies.click()\n",
    "        btn = driver.find_element(By.CSS_SELECTOR, \".btn.circle.right\")\n",
    "        btn.click()\n",
    "        time.sleep(1)\n",
    "        while btn != None:\n",
    "            data = get_data(data)\n",
    "            btn = driver.find_element(By.CSS_SELECTOR, \".btn.circle.right\")\n",
    "            btn.click()\n",
    "            time.sleep(1)\n",
    "    except NoSuchElementException:\n",
    "        print(\"all done\")\n",
    "        return data"
   ]
  },
  {
   "cell_type": "code",
   "execution_count": 7,
   "metadata": {},
   "outputs": [
    {
     "name": "stdout",
     "output_type": "stream",
     "text": [
      "done\n",
      "all done\n",
      "[['Hardware Development Engineer Co-Op - Fall 2024 (US)', 'https://amazon.jobs/en/jobs/2651020/hardware-development-engineer-co-op-fall-2024-us'], ['2025 AFRP Accounting - Intern', 'https://amazon.jobs/en/jobs/2648556/2025-afrp-accounting-intern'], ['Software Development Engineer - 2024 (US)', 'https://amazon.jobs/en/jobs/2644301/software-development-engineer-2024-us'], ['Application-Specific Integrated Circuit (ASIC) Engineer – 2024 (US)', 'https://amazon.jobs/en/jobs/2628409/application-specific-integrated-circuit-asic-engineer-2024-us'], ['Hardware Development Engineer Fall Internship – 2024 (US)', 'https://amazon.jobs/en/jobs/2620668/hardware-development-engineer-fall-internship-2024-us'], ['2024 Fall Research Science Internship - United States, PhD Student', 'https://amazon.jobs/en/jobs/2615037/2024-fall-research-science-internship-united-states-phd-student'], ['2024 Fall Data Science Internship - United States, PhD or Masters Student', 'https://amazon.jobs/en/jobs/2615002/2024-fall-data-science-internship-united-states-phd-or-masters-student'], ['2024 Fall Applied Science Internship - United States, PhD Student', 'https://amazon.jobs/en/jobs/2615041/2024-fall-applied-science-internship-united-states-phd-student'], ['2024 Fall Applied Science Internship - United States, Masters Student', 'https://amazon.jobs/en/jobs/2614985/2024-fall-applied-science-internship-united-states-masters-student']]\n"
     ]
    }
   ],
   "source": [
    "data = get_all_data([])\n",
    "print(data)"
   ]
  },
  {
   "cell_type": "code",
   "execution_count": 8,
   "metadata": {},
   "outputs": [],
   "source": [
    "df = pd.DataFrame(data, columns=[\"Name\", \"Link\"])\n",
    "df"
   ]
  },
  {
   "cell_type": "code",
   "execution_count": 9,
   "metadata": {},
   "outputs": [],
   "source": [
    "driver.quit()"
   ]
  }
 ],
 "metadata": {
  "kernelspec": {
   "display_name": "Python 3",
   "language": "python",
   "name": "python3"
  },
  "language_info": {
   "codemirror_mode": {
    "name": "ipython",
    "version": 3
   },
   "file_extension": ".py",
   "mimetype": "text/x-python",
   "name": "python",
   "nbconvert_exporter": "python",
   "pygments_lexer": "ipython3",
   "version": "3.11.8"
  }
 },
 "nbformat": 4,
 "nbformat_minor": 2
}
