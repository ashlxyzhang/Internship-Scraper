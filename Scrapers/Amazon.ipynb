{
 "cells": [
  {
   "cell_type": "code",
   "execution_count": 1,
   "metadata": {},
   "outputs": [],
   "source": [
    "import os\n",
    "import pandas as pd\n",
    "import time\n",
    "from selenium import webdriver\n",
    "from selenium.webdriver.common.by import By\n",
    "from selenium.webdriver.support.ui import WebDriverWait\n",
    "from selenium.webdriver.support import expected_conditions as EC\n",
    "from selenium.common.exceptions import NoSuchElementException, TimeoutException"
   ]
  },
  {
   "cell_type": "code",
   "execution_count": 2,
   "metadata": {},
   "outputs": [],
   "source": [
    "driver = webdriver.Chrome()"
   ]
  },
  {
   "cell_type": "code",
   "execution_count": 3,
   "metadata": {},
   "outputs": [],
   "source": [
    "url = \"https://amazon.jobs/en/search?offset=0&result_limit=10&sort=recent&country%5B%5D=USA&category_type=studentprograms\"\n",
    "driver.get(url)"
   ]
  },
  {
   "cell_type": "code",
   "execution_count": 4,
   "metadata": {},
   "outputs": [],
   "source": [
    "def get_data(data):\n",
    "    try:\n",
    "        internships = WebDriverWait(driver, 10).until(\n",
    "            EC.presence_of_all_elements_located((By.CSS_SELECTOR, \".job-link\"))\n",
    "        )\n",
    "        for i in internships:\n",
    "            href = i.get_attribute(\"href\")\n",
    "            title = i.text\n",
    "            if title != '':\n",
    "                data.append([title, href])\n",
    "        return data\n",
    "    finally:\n",
    "        print(\"done\")"
   ]
  },
  {
   "cell_type": "code",
   "execution_count": 5,
   "metadata": {},
   "outputs": [],
   "source": [
    "def get_all_data(data):\n",
    "    try:\n",
    "        data = get_data(data)\n",
    "        cookies = driver.find_element(By.ID, \"btn-reject-cookies\")\n",
    "        cookies.click()\n",
    "        btn = driver.find_element(By.CSS_SELECTOR, \".btn.circle.right\")\n",
    "        btn.click()\n",
    "        time.sleep(1)\n",
    "        while btn != None:\n",
    "            data = get_data(data)\n",
    "            btn = driver.find_element(By.CSS_SELECTOR, \".btn.circle.right\")\n",
    "            btn.click()\n",
    "            time.sleep(1)\n",
    "    except NoSuchElementException:\n",
    "        print(\"all done\")\n",
    "        return data"
   ]
  },
  {
   "cell_type": "code",
   "execution_count": 6,
   "metadata": {},
   "outputs": [
    {
     "name": "stdout",
     "output_type": "stream",
     "text": [
      "done\n",
      "all done\n",
      "[['2025 Amazon Operations Finance Rotational Program Summer Internship', 'https://amazon.jobs/en/jobs/2668114/2025-amazon-operations-finance-rotational-program-summer-internship'], ['2025 Amazon Business Unit Finance Summer Internship', 'https://amazon.jobs/en/jobs/2668721/2025-amazon-business-unit-finance-summer-internship'], ['Hardware Development Engineer Co-Op - Fall 2024 (US)', 'https://amazon.jobs/en/jobs/2651020/hardware-development-engineer-co-op-fall-2024-us'], ['2025 AFRP Accounting - Intern', 'https://amazon.jobs/en/jobs/2648556/2025-afrp-accounting-intern'], ['Software Development Engineer - 2024 (US)', 'https://amazon.jobs/en/jobs/2644301/software-development-engineer-2024-us'], ['Hardware Development Engineer Fall Internship – 2024 (US)', 'https://amazon.jobs/en/jobs/2620668/hardware-development-engineer-fall-internship-2024-us'], ['2024 Fall Research Science Internship - United States, PhD Student', 'https://amazon.jobs/en/jobs/2615037/2024-fall-research-science-internship-united-states-phd-student'], ['2024 Fall Data Science Internship - United States, PhD or Masters Student', 'https://amazon.jobs/en/jobs/2615002/2024-fall-data-science-internship-united-states-phd-or-masters-student'], ['2024 Fall Applied Science Internship - United States, PhD Student', 'https://amazon.jobs/en/jobs/2615041/2024-fall-applied-science-internship-united-states-phd-student'], ['2024 Fall Applied Science Internship - United States, Masters Student', 'https://amazon.jobs/en/jobs/2614985/2024-fall-applied-science-internship-united-states-masters-student']]\n"
     ]
    }
   ],
   "source": [
    "data = get_all_data([])\n",
    "print(data)"
   ]
  },
  {
   "cell_type": "code",
   "execution_count": 13,
   "metadata": {},
   "outputs": [
    {
     "data": {
      "text/html": [
       "<div>\n",
       "<style scoped>\n",
       "    .dataframe tbody tr th:only-of-type {\n",
       "        vertical-align: middle;\n",
       "    }\n",
       "\n",
       "    .dataframe tbody tr th {\n",
       "        vertical-align: top;\n",
       "    }\n",
       "\n",
       "    .dataframe thead th {\n",
       "        text-align: right;\n",
       "    }\n",
       "</style>\n",
       "<table border=\"1\" class=\"dataframe\">\n",
       "  <thead>\n",
       "    <tr style=\"text-align: right;\">\n",
       "      <th></th>\n",
       "      <th>Name</th>\n",
       "      <th>Link</th>\n",
       "    </tr>\n",
       "  </thead>\n",
       "  <tbody>\n",
       "    <tr>\n",
       "      <th>0</th>\n",
       "      <td>2025 Amazon Operations Finance Rotational Prog...</td>\n",
       "      <td>https://amazon.jobs/en/jobs/2668114/2025-amazo...</td>\n",
       "    </tr>\n",
       "    <tr>\n",
       "      <th>1</th>\n",
       "      <td>2025 Amazon Business Unit Finance Summer Inter...</td>\n",
       "      <td>https://amazon.jobs/en/jobs/2668721/2025-amazo...</td>\n",
       "    </tr>\n",
       "    <tr>\n",
       "      <th>2</th>\n",
       "      <td>Hardware Development Engineer Co-Op - Fall 202...</td>\n",
       "      <td>https://amazon.jobs/en/jobs/2651020/hardware-d...</td>\n",
       "    </tr>\n",
       "    <tr>\n",
       "      <th>3</th>\n",
       "      <td>2025 AFRP Accounting - Intern</td>\n",
       "      <td>https://amazon.jobs/en/jobs/2648556/2025-afrp-...</td>\n",
       "    </tr>\n",
       "    <tr>\n",
       "      <th>4</th>\n",
       "      <td>Software Development Engineer - 2024 (US)</td>\n",
       "      <td>https://amazon.jobs/en/jobs/2644301/software-d...</td>\n",
       "    </tr>\n",
       "  </tbody>\n",
       "</table>\n",
       "</div>"
      ],
      "text/plain": [
       "                                                Name  \\\n",
       "0  2025 Amazon Operations Finance Rotational Prog...   \n",
       "1  2025 Amazon Business Unit Finance Summer Inter...   \n",
       "2  Hardware Development Engineer Co-Op - Fall 202...   \n",
       "3                      2025 AFRP Accounting - Intern   \n",
       "4          Software Development Engineer - 2024 (US)   \n",
       "\n",
       "                                                Link  \n",
       "0  https://amazon.jobs/en/jobs/2668114/2025-amazo...  \n",
       "1  https://amazon.jobs/en/jobs/2668721/2025-amazo...  \n",
       "2  https://amazon.jobs/en/jobs/2651020/hardware-d...  \n",
       "3  https://amazon.jobs/en/jobs/2648556/2025-afrp-...  \n",
       "4  https://amazon.jobs/en/jobs/2644301/software-d...  "
      ]
     },
     "execution_count": 13,
     "metadata": {},
     "output_type": "execute_result"
    }
   ],
   "source": [
    "df = pd.DataFrame(data, columns=[\"Name\", \"Link\"])\n",
    "df.head()"
   ]
  },
  {
   "cell_type": "code",
   "execution_count": 8,
   "metadata": {},
   "outputs": [],
   "source": [
    "df.to_csv(\"../CSV/amazon.csv\")"
   ]
  },
  {
   "cell_type": "code",
   "execution_count": 9,
   "metadata": {},
   "outputs": [],
   "source": [
    "driver.quit()"
   ]
  }
 ],
 "metadata": {
  "kernelspec": {
   "display_name": "Python 3",
   "language": "python",
   "name": "python3"
  },
  "language_info": {
   "codemirror_mode": {
    "name": "ipython",
    "version": 3
   },
   "file_extension": ".py",
   "mimetype": "text/x-python",
   "name": "python",
   "nbconvert_exporter": "python",
   "pygments_lexer": "ipython3",
   "version": "3.11.8"
  }
 },
 "nbformat": 4,
 "nbformat_minor": 2
}
