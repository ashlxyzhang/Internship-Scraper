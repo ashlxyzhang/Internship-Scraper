{
 "cells": [
  {
   "cell_type": "code",
   "execution_count": 74,
   "metadata": {},
   "outputs": [],
   "source": [
    "import io\n",
    "import pandas as pd\n",
    "import time\n",
    "from selenium import webdriver\n",
    "from selenium.webdriver.common.by import By\n",
    "from selenium.webdriver.support.ui import WebDriverWait\n",
    "from selenium.webdriver.support import expected_conditions as EC\n",
    "from selenium.common.exceptions import NoSuchElementException, TimeoutException"
   ]
  },
  {
   "cell_type": "code",
   "execution_count": 21,
   "metadata": {},
   "outputs": [],
   "source": [
    "driver = webdriver.Chrome()"
   ]
  },
  {
   "cell_type": "code",
   "execution_count": 22,
   "metadata": {},
   "outputs": [],
   "source": [
    "url = \"https://pc00.paycomonline.com/v4/ats/web.php/jobs?jobSearchSettingsId=20&clientkey=A38173AIE92874820ALRE20847CDE927PIW76526&_gl=1*13nwcap*_gcl_au*NjIyMjcwOTQwLjE2OTM1ODExNTguMTQ1MTI0MTM5MC4xNjk1NzM0MDQ5LjE2OTU3MzQwNDg.\"\n",
    "driver.get(url)"
   ]
  },
  {
   "cell_type": "code",
   "execution_count": 68,
   "metadata": {},
   "outputs": [],
   "source": [
    "def get_data(data):\n",
    "    try:\n",
    "        internships = WebDriverWait(driver, 2).until(\n",
    "            EC.presence_of_all_elements_located((By.CSS_SELECTOR, \".JobListing__container\"))\n",
    "        )\n",
    "        for i in internships:\n",
    "            href = i.get_attribute(\"href\")\n",
    "            title = i.text\n",
    "            if title != '':\n",
    "                data.append([title, href])\n",
    "        return data\n",
    "    except TimeoutException:\n",
    "        return data"
   ]
  },
  {
   "cell_type": "code",
   "execution_count": 63,
   "metadata": {},
   "outputs": [],
   "source": [
    "def get_all_data(data):\n",
    "    try:\n",
    "        data = get_data(data)\n",
    "        btn = driver.find_element(By.CSS_SELECTOR, \".js-pagination-link-next\")\n",
    "        while btn != None and btn.get_attribute(\"tabindex\") != '-1':\n",
    "            btn.click()\n",
    "            time.sleep(0.5)\n",
    "            data = get_data(data)\n",
    "            btn = driver.find_element(By.CSS_SELECTOR, \".js-pagination-link-next\")\n",
    "        return data\n",
    "    except NoSuchElementException:\n",
    "        return data"
   ]
  },
  {
   "cell_type": "code",
   "execution_count": 72,
   "metadata": {},
   "outputs": [],
   "source": [
    "data = get_all_data([])"
   ]
  },
  {
   "cell_type": "code",
   "execution_count": 76,
   "metadata": {},
   "outputs": [],
   "source": [
    "df = pd.DataFrame(data, columns=[\"Name\", \"Link\"])\n",
    "    \n",
    "csv_buffer = io.StringIO()\n",
    "df.to_csv(csv_buffer, index=False)\n",
    "csv_string = csv_buffer.getvalue()\n",
    "csv_buffer.close()"
   ]
  }
 ],
 "metadata": {
  "kernelspec": {
   "display_name": "base",
   "language": "python",
   "name": "python3"
  },
  "language_info": {
   "codemirror_mode": {
    "name": "ipython",
    "version": 3
   },
   "file_extension": ".py",
   "mimetype": "text/x-python",
   "name": "python",
   "nbconvert_exporter": "python",
   "pygments_lexer": "ipython3",
   "version": "3.11.8"
  }
 },
 "nbformat": 4,
 "nbformat_minor": 2
}
