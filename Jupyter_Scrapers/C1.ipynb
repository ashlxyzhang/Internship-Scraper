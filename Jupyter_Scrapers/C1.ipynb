{
 "cells": [
  {
   "cell_type": "code",
   "execution_count": 63,
   "metadata": {},
   "outputs": [],
   "source": [
    "import pandas as pd\n",
    "import time\n",
    "from selenium import webdriver\n",
    "from selenium.webdriver.common.by import By\n",
    "from selenium.webdriver.support.ui import WebDriverWait\n",
    "from selenium.webdriver.support import expected_conditions as EC"
   ]
  },
  {
   "cell_type": "code",
   "execution_count": 64,
   "metadata": {},
   "outputs": [],
   "source": [
    "driver = webdriver.Chrome()"
   ]
  },
  {
   "cell_type": "code",
   "execution_count": 65,
   "metadata": {},
   "outputs": [
    {
     "ename": "KeyboardInterrupt",
     "evalue": "",
     "output_type": "error",
     "traceback": [
      "\u001b[0;31m---------------------------------------------------------------------------\u001b[0m",
      "\u001b[0;31mKeyboardInterrupt\u001b[0m                         Traceback (most recent call last)",
      "Cell \u001b[0;32mIn[65], line 2\u001b[0m\n\u001b[1;32m      1\u001b[0m url \u001b[38;5;241m=\u001b[39m \u001b[38;5;124m\"\u001b[39m\u001b[38;5;124mhttps://www.capitalonecareers.com/search-jobs?acm=ALL&alrpm=ALL&ascf=[\u001b[39m\u001b[38;5;124m%\u001b[39m\u001b[38;5;124m7B\u001b[39m\u001b[38;5;124m%\u001b[39m\u001b[38;5;124m22key\u001b[39m\u001b[38;5;124m%\u001b[39m\u001b[38;5;124m22:\u001b[39m\u001b[38;5;132;01m%22c\u001b[39;00m\u001b[38;5;124mustom_fields.Campus\u001b[39m\u001b[38;5;124m%\u001b[39m\u001b[38;5;124m22,\u001b[39m\u001b[38;5;124m%\u001b[39m\u001b[38;5;124m22value\u001b[39m\u001b[38;5;124m%\u001b[39m\u001b[38;5;124m22:\u001b[39m\u001b[38;5;124m%\u001b[39m\u001b[38;5;124m22Internships\u001b[39m\u001b[38;5;132;01m%22%\u001b[39;00m\u001b[38;5;124m7D]\u001b[39m\u001b[38;5;124m\"\u001b[39m\n\u001b[0;32m----> 2\u001b[0m driver\u001b[38;5;241m.\u001b[39mget(url)\n",
      "File \u001b[0;32m~/anaconda3/lib/python3.11/site-packages/selenium/webdriver/remote/webdriver.py:356\u001b[0m, in \u001b[0;36mWebDriver.get\u001b[0;34m(self, url)\u001b[0m\n\u001b[1;32m    354\u001b[0m \u001b[38;5;28;01mdef\u001b[39;00m \u001b[38;5;21mget\u001b[39m(\u001b[38;5;28mself\u001b[39m, url: \u001b[38;5;28mstr\u001b[39m) \u001b[38;5;241m-\u001b[39m\u001b[38;5;241m>\u001b[39m \u001b[38;5;28;01mNone\u001b[39;00m:\n\u001b[1;32m    355\u001b[0m \u001b[38;5;250m    \u001b[39m\u001b[38;5;124;03m\"\"\"Loads a web page in the current browser session.\"\"\"\u001b[39;00m\n\u001b[0;32m--> 356\u001b[0m     \u001b[38;5;28mself\u001b[39m\u001b[38;5;241m.\u001b[39mexecute(Command\u001b[38;5;241m.\u001b[39mGET, {\u001b[38;5;124m\"\u001b[39m\u001b[38;5;124murl\u001b[39m\u001b[38;5;124m\"\u001b[39m: url})\n",
      "File \u001b[0;32m~/anaconda3/lib/python3.11/site-packages/selenium/webdriver/remote/webdriver.py:345\u001b[0m, in \u001b[0;36mWebDriver.execute\u001b[0;34m(self, driver_command, params)\u001b[0m\n\u001b[1;32m    342\u001b[0m     \u001b[38;5;28;01melif\u001b[39;00m \u001b[38;5;124m\"\u001b[39m\u001b[38;5;124msessionId\u001b[39m\u001b[38;5;124m\"\u001b[39m \u001b[38;5;129;01mnot\u001b[39;00m \u001b[38;5;129;01min\u001b[39;00m params:\n\u001b[1;32m    343\u001b[0m         params[\u001b[38;5;124m\"\u001b[39m\u001b[38;5;124msessionId\u001b[39m\u001b[38;5;124m\"\u001b[39m] \u001b[38;5;241m=\u001b[39m \u001b[38;5;28mself\u001b[39m\u001b[38;5;241m.\u001b[39msession_id\n\u001b[0;32m--> 345\u001b[0m response \u001b[38;5;241m=\u001b[39m \u001b[38;5;28mself\u001b[39m\u001b[38;5;241m.\u001b[39mcommand_executor\u001b[38;5;241m.\u001b[39mexecute(driver_command, params)\n\u001b[1;32m    346\u001b[0m \u001b[38;5;28;01mif\u001b[39;00m response:\n\u001b[1;32m    347\u001b[0m     \u001b[38;5;28mself\u001b[39m\u001b[38;5;241m.\u001b[39merror_handler\u001b[38;5;241m.\u001b[39mcheck_response(response)\n",
      "File \u001b[0;32m~/anaconda3/lib/python3.11/site-packages/selenium/webdriver/remote/remote_connection.py:302\u001b[0m, in \u001b[0;36mRemoteConnection.execute\u001b[0;34m(self, command, params)\u001b[0m\n\u001b[1;32m    300\u001b[0m trimmed \u001b[38;5;241m=\u001b[39m \u001b[38;5;28mself\u001b[39m\u001b[38;5;241m.\u001b[39m_trim_large_entries(params)\n\u001b[1;32m    301\u001b[0m LOGGER\u001b[38;5;241m.\u001b[39mdebug(\u001b[38;5;124m\"\u001b[39m\u001b[38;5;132;01m%s\u001b[39;00m\u001b[38;5;124m \u001b[39m\u001b[38;5;132;01m%s\u001b[39;00m\u001b[38;5;124m \u001b[39m\u001b[38;5;132;01m%s\u001b[39;00m\u001b[38;5;124m\"\u001b[39m, command_info[\u001b[38;5;241m0\u001b[39m], url, \u001b[38;5;28mstr\u001b[39m(trimmed))\n\u001b[0;32m--> 302\u001b[0m \u001b[38;5;28;01mreturn\u001b[39;00m \u001b[38;5;28mself\u001b[39m\u001b[38;5;241m.\u001b[39m_request(command_info[\u001b[38;5;241m0\u001b[39m], url, body\u001b[38;5;241m=\u001b[39mdata)\n",
      "File \u001b[0;32m~/anaconda3/lib/python3.11/site-packages/selenium/webdriver/remote/remote_connection.py:322\u001b[0m, in \u001b[0;36mRemoteConnection._request\u001b[0;34m(self, method, url, body)\u001b[0m\n\u001b[1;32m    319\u001b[0m     body \u001b[38;5;241m=\u001b[39m \u001b[38;5;28;01mNone\u001b[39;00m\n\u001b[1;32m    321\u001b[0m \u001b[38;5;28;01mif\u001b[39;00m \u001b[38;5;28mself\u001b[39m\u001b[38;5;241m.\u001b[39mkeep_alive:\n\u001b[0;32m--> 322\u001b[0m     response \u001b[38;5;241m=\u001b[39m \u001b[38;5;28mself\u001b[39m\u001b[38;5;241m.\u001b[39m_conn\u001b[38;5;241m.\u001b[39mrequest(method, url, body\u001b[38;5;241m=\u001b[39mbody, headers\u001b[38;5;241m=\u001b[39mheaders)\n\u001b[1;32m    323\u001b[0m     statuscode \u001b[38;5;241m=\u001b[39m response\u001b[38;5;241m.\u001b[39mstatus\n\u001b[1;32m    324\u001b[0m \u001b[38;5;28;01melse\u001b[39;00m:\n",
      "File \u001b[0;32m~/anaconda3/lib/python3.11/site-packages/urllib3/request.py:81\u001b[0m, in \u001b[0;36mRequestMethods.request\u001b[0;34m(self, method, url, fields, headers, **urlopen_kw)\u001b[0m\n\u001b[1;32m     77\u001b[0m     \u001b[38;5;28;01mreturn\u001b[39;00m \u001b[38;5;28mself\u001b[39m\u001b[38;5;241m.\u001b[39mrequest_encode_url(\n\u001b[1;32m     78\u001b[0m         method, url, fields\u001b[38;5;241m=\u001b[39mfields, headers\u001b[38;5;241m=\u001b[39mheaders, \u001b[38;5;241m*\u001b[39m\u001b[38;5;241m*\u001b[39murlopen_kw\n\u001b[1;32m     79\u001b[0m     )\n\u001b[1;32m     80\u001b[0m \u001b[38;5;28;01melse\u001b[39;00m:\n\u001b[0;32m---> 81\u001b[0m     \u001b[38;5;28;01mreturn\u001b[39;00m \u001b[38;5;28mself\u001b[39m\u001b[38;5;241m.\u001b[39mrequest_encode_body(\n\u001b[1;32m     82\u001b[0m         method, url, fields\u001b[38;5;241m=\u001b[39mfields, headers\u001b[38;5;241m=\u001b[39mheaders, \u001b[38;5;241m*\u001b[39m\u001b[38;5;241m*\u001b[39murlopen_kw\n\u001b[1;32m     83\u001b[0m     )\n",
      "File \u001b[0;32m~/anaconda3/lib/python3.11/site-packages/urllib3/request.py:173\u001b[0m, in \u001b[0;36mRequestMethods.request_encode_body\u001b[0;34m(self, method, url, fields, headers, encode_multipart, multipart_boundary, **urlopen_kw)\u001b[0m\n\u001b[1;32m    170\u001b[0m extra_kw[\u001b[38;5;124m\"\u001b[39m\u001b[38;5;124mheaders\u001b[39m\u001b[38;5;124m\"\u001b[39m]\u001b[38;5;241m.\u001b[39mupdate(headers)\n\u001b[1;32m    171\u001b[0m extra_kw\u001b[38;5;241m.\u001b[39mupdate(urlopen_kw)\n\u001b[0;32m--> 173\u001b[0m \u001b[38;5;28;01mreturn\u001b[39;00m \u001b[38;5;28mself\u001b[39m\u001b[38;5;241m.\u001b[39murlopen(method, url, \u001b[38;5;241m*\u001b[39m\u001b[38;5;241m*\u001b[39mextra_kw)\n",
      "File \u001b[0;32m~/anaconda3/lib/python3.11/site-packages/urllib3/poolmanager.py:376\u001b[0m, in \u001b[0;36mPoolManager.urlopen\u001b[0;34m(self, method, url, redirect, **kw)\u001b[0m\n\u001b[1;32m    374\u001b[0m     response \u001b[38;5;241m=\u001b[39m conn\u001b[38;5;241m.\u001b[39murlopen(method, url, \u001b[38;5;241m*\u001b[39m\u001b[38;5;241m*\u001b[39mkw)\n\u001b[1;32m    375\u001b[0m \u001b[38;5;28;01melse\u001b[39;00m:\n\u001b[0;32m--> 376\u001b[0m     response \u001b[38;5;241m=\u001b[39m conn\u001b[38;5;241m.\u001b[39murlopen(method, u\u001b[38;5;241m.\u001b[39mrequest_uri, \u001b[38;5;241m*\u001b[39m\u001b[38;5;241m*\u001b[39mkw)\n\u001b[1;32m    378\u001b[0m redirect_location \u001b[38;5;241m=\u001b[39m redirect \u001b[38;5;129;01mand\u001b[39;00m response\u001b[38;5;241m.\u001b[39mget_redirect_location()\n\u001b[1;32m    379\u001b[0m \u001b[38;5;28;01mif\u001b[39;00m \u001b[38;5;129;01mnot\u001b[39;00m redirect_location:\n",
      "File \u001b[0;32m~/anaconda3/lib/python3.11/site-packages/urllib3/connectionpool.py:715\u001b[0m, in \u001b[0;36mHTTPConnectionPool.urlopen\u001b[0;34m(self, method, url, body, headers, retries, redirect, assert_same_host, timeout, pool_timeout, release_conn, chunked, body_pos, **response_kw)\u001b[0m\n\u001b[1;32m    712\u001b[0m     \u001b[38;5;28mself\u001b[39m\u001b[38;5;241m.\u001b[39m_prepare_proxy(conn)\n\u001b[1;32m    714\u001b[0m \u001b[38;5;66;03m# Make the request on the httplib connection object.\u001b[39;00m\n\u001b[0;32m--> 715\u001b[0m httplib_response \u001b[38;5;241m=\u001b[39m \u001b[38;5;28mself\u001b[39m\u001b[38;5;241m.\u001b[39m_make_request(\n\u001b[1;32m    716\u001b[0m     conn,\n\u001b[1;32m    717\u001b[0m     method,\n\u001b[1;32m    718\u001b[0m     url,\n\u001b[1;32m    719\u001b[0m     timeout\u001b[38;5;241m=\u001b[39mtimeout_obj,\n\u001b[1;32m    720\u001b[0m     body\u001b[38;5;241m=\u001b[39mbody,\n\u001b[1;32m    721\u001b[0m     headers\u001b[38;5;241m=\u001b[39mheaders,\n\u001b[1;32m    722\u001b[0m     chunked\u001b[38;5;241m=\u001b[39mchunked,\n\u001b[1;32m    723\u001b[0m )\n\u001b[1;32m    725\u001b[0m \u001b[38;5;66;03m# If we're going to release the connection in ``finally:``, then\u001b[39;00m\n\u001b[1;32m    726\u001b[0m \u001b[38;5;66;03m# the response doesn't need to know about the connection. Otherwise\u001b[39;00m\n\u001b[1;32m    727\u001b[0m \u001b[38;5;66;03m# it will also try to release it and we'll have a double-release\u001b[39;00m\n\u001b[1;32m    728\u001b[0m \u001b[38;5;66;03m# mess.\u001b[39;00m\n\u001b[1;32m    729\u001b[0m response_conn \u001b[38;5;241m=\u001b[39m conn \u001b[38;5;28;01mif\u001b[39;00m \u001b[38;5;129;01mnot\u001b[39;00m release_conn \u001b[38;5;28;01melse\u001b[39;00m \u001b[38;5;28;01mNone\u001b[39;00m\n",
      "File \u001b[0;32m~/anaconda3/lib/python3.11/site-packages/urllib3/connectionpool.py:467\u001b[0m, in \u001b[0;36mHTTPConnectionPool._make_request\u001b[0;34m(self, conn, method, url, timeout, chunked, **httplib_request_kw)\u001b[0m\n\u001b[1;32m    462\u001b[0m             httplib_response \u001b[38;5;241m=\u001b[39m conn\u001b[38;5;241m.\u001b[39mgetresponse()\n\u001b[1;32m    463\u001b[0m         \u001b[38;5;28;01mexcept\u001b[39;00m \u001b[38;5;167;01mBaseException\u001b[39;00m \u001b[38;5;28;01mas\u001b[39;00m e:\n\u001b[1;32m    464\u001b[0m             \u001b[38;5;66;03m# Remove the TypeError from the exception chain in\u001b[39;00m\n\u001b[1;32m    465\u001b[0m             \u001b[38;5;66;03m# Python 3 (including for exceptions like SystemExit).\u001b[39;00m\n\u001b[1;32m    466\u001b[0m             \u001b[38;5;66;03m# Otherwise it looks like a bug in the code.\u001b[39;00m\n\u001b[0;32m--> 467\u001b[0m             six\u001b[38;5;241m.\u001b[39mraise_from(e, \u001b[38;5;28;01mNone\u001b[39;00m)\n\u001b[1;32m    468\u001b[0m \u001b[38;5;28;01mexcept\u001b[39;00m (SocketTimeout, BaseSSLError, SocketError) \u001b[38;5;28;01mas\u001b[39;00m e:\n\u001b[1;32m    469\u001b[0m     \u001b[38;5;28mself\u001b[39m\u001b[38;5;241m.\u001b[39m_raise_timeout(err\u001b[38;5;241m=\u001b[39me, url\u001b[38;5;241m=\u001b[39murl, timeout_value\u001b[38;5;241m=\u001b[39mread_timeout)\n",
      "File \u001b[0;32m<string>:3\u001b[0m, in \u001b[0;36mraise_from\u001b[0;34m(value, from_value)\u001b[0m\n",
      "File \u001b[0;32m~/anaconda3/lib/python3.11/site-packages/urllib3/connectionpool.py:462\u001b[0m, in \u001b[0;36mHTTPConnectionPool._make_request\u001b[0;34m(self, conn, method, url, timeout, chunked, **httplib_request_kw)\u001b[0m\n\u001b[1;32m    459\u001b[0m \u001b[38;5;28;01mexcept\u001b[39;00m \u001b[38;5;167;01mTypeError\u001b[39;00m:\n\u001b[1;32m    460\u001b[0m     \u001b[38;5;66;03m# Python 3\u001b[39;00m\n\u001b[1;32m    461\u001b[0m     \u001b[38;5;28;01mtry\u001b[39;00m:\n\u001b[0;32m--> 462\u001b[0m         httplib_response \u001b[38;5;241m=\u001b[39m conn\u001b[38;5;241m.\u001b[39mgetresponse()\n\u001b[1;32m    463\u001b[0m     \u001b[38;5;28;01mexcept\u001b[39;00m \u001b[38;5;167;01mBaseException\u001b[39;00m \u001b[38;5;28;01mas\u001b[39;00m e:\n\u001b[1;32m    464\u001b[0m         \u001b[38;5;66;03m# Remove the TypeError from the exception chain in\u001b[39;00m\n\u001b[1;32m    465\u001b[0m         \u001b[38;5;66;03m# Python 3 (including for exceptions like SystemExit).\u001b[39;00m\n\u001b[1;32m    466\u001b[0m         \u001b[38;5;66;03m# Otherwise it looks like a bug in the code.\u001b[39;00m\n\u001b[1;32m    467\u001b[0m         six\u001b[38;5;241m.\u001b[39mraise_from(e, \u001b[38;5;28;01mNone\u001b[39;00m)\n",
      "File \u001b[0;32m~/anaconda3/lib/python3.11/http/client.py:1390\u001b[0m, in \u001b[0;36mHTTPConnection.getresponse\u001b[0;34m(self)\u001b[0m\n\u001b[1;32m   1388\u001b[0m \u001b[38;5;28;01mtry\u001b[39;00m:\n\u001b[1;32m   1389\u001b[0m     \u001b[38;5;28;01mtry\u001b[39;00m:\n\u001b[0;32m-> 1390\u001b[0m         response\u001b[38;5;241m.\u001b[39mbegin()\n\u001b[1;32m   1391\u001b[0m     \u001b[38;5;28;01mexcept\u001b[39;00m \u001b[38;5;167;01mConnectionError\u001b[39;00m:\n\u001b[1;32m   1392\u001b[0m         \u001b[38;5;28mself\u001b[39m\u001b[38;5;241m.\u001b[39mclose()\n",
      "File \u001b[0;32m~/anaconda3/lib/python3.11/http/client.py:325\u001b[0m, in \u001b[0;36mHTTPResponse.begin\u001b[0;34m(self)\u001b[0m\n\u001b[1;32m    323\u001b[0m \u001b[38;5;66;03m# read until we get a non-100 response\u001b[39;00m\n\u001b[1;32m    324\u001b[0m \u001b[38;5;28;01mwhile\u001b[39;00m \u001b[38;5;28;01mTrue\u001b[39;00m:\n\u001b[0;32m--> 325\u001b[0m     version, status, reason \u001b[38;5;241m=\u001b[39m \u001b[38;5;28mself\u001b[39m\u001b[38;5;241m.\u001b[39m_read_status()\n\u001b[1;32m    326\u001b[0m     \u001b[38;5;28;01mif\u001b[39;00m status \u001b[38;5;241m!=\u001b[39m CONTINUE:\n\u001b[1;32m    327\u001b[0m         \u001b[38;5;28;01mbreak\u001b[39;00m\n",
      "File \u001b[0;32m~/anaconda3/lib/python3.11/http/client.py:286\u001b[0m, in \u001b[0;36mHTTPResponse._read_status\u001b[0;34m(self)\u001b[0m\n\u001b[1;32m    285\u001b[0m \u001b[38;5;28;01mdef\u001b[39;00m \u001b[38;5;21m_read_status\u001b[39m(\u001b[38;5;28mself\u001b[39m):\n\u001b[0;32m--> 286\u001b[0m     line \u001b[38;5;241m=\u001b[39m \u001b[38;5;28mstr\u001b[39m(\u001b[38;5;28mself\u001b[39m\u001b[38;5;241m.\u001b[39mfp\u001b[38;5;241m.\u001b[39mreadline(_MAXLINE \u001b[38;5;241m+\u001b[39m \u001b[38;5;241m1\u001b[39m), \u001b[38;5;124m\"\u001b[39m\u001b[38;5;124miso-8859-1\u001b[39m\u001b[38;5;124m\"\u001b[39m)\n\u001b[1;32m    287\u001b[0m     \u001b[38;5;28;01mif\u001b[39;00m \u001b[38;5;28mlen\u001b[39m(line) \u001b[38;5;241m>\u001b[39m _MAXLINE:\n\u001b[1;32m    288\u001b[0m         \u001b[38;5;28;01mraise\u001b[39;00m LineTooLong(\u001b[38;5;124m\"\u001b[39m\u001b[38;5;124mstatus line\u001b[39m\u001b[38;5;124m\"\u001b[39m)\n",
      "File \u001b[0;32m~/anaconda3/lib/python3.11/socket.py:706\u001b[0m, in \u001b[0;36mSocketIO.readinto\u001b[0;34m(self, b)\u001b[0m\n\u001b[1;32m    704\u001b[0m \u001b[38;5;28;01mwhile\u001b[39;00m \u001b[38;5;28;01mTrue\u001b[39;00m:\n\u001b[1;32m    705\u001b[0m     \u001b[38;5;28;01mtry\u001b[39;00m:\n\u001b[0;32m--> 706\u001b[0m         \u001b[38;5;28;01mreturn\u001b[39;00m \u001b[38;5;28mself\u001b[39m\u001b[38;5;241m.\u001b[39m_sock\u001b[38;5;241m.\u001b[39mrecv_into(b)\n\u001b[1;32m    707\u001b[0m     \u001b[38;5;28;01mexcept\u001b[39;00m timeout:\n\u001b[1;32m    708\u001b[0m         \u001b[38;5;28mself\u001b[39m\u001b[38;5;241m.\u001b[39m_timeout_occurred \u001b[38;5;241m=\u001b[39m \u001b[38;5;28;01mTrue\u001b[39;00m\n",
      "\u001b[0;31mKeyboardInterrupt\u001b[0m: "
     ]
    }
   ],
   "source": [
    "url = \"https://www.capitalonecareers.com/search-jobs?acm=ALL&alrpm=ALL&ascf=[%7B%22key%22:%22custom_fields.Campus%22,%22value%22:%22Internships%22%7D]\"\n",
    "driver.get(url)"
   ]
  },
  {
   "cell_type": "code",
   "execution_count": null,
   "metadata": {},
   "outputs": [],
   "source": [
    "def get_data(data):\n",
    "    internships = WebDriverWait(driver, 10).until(\n",
    "        EC.presence_of_all_elements_located((By.XPATH, \"//a[@data-job-id]\"))\n",
    "    )\n",
    "    for i in internships:\n",
    "        href = i.get_attribute(\"href\")\n",
    "        title = i.find_element(By.XPATH, \".//h2\").text\n",
    "        if title != '':\n",
    "            data.append([title, href])\n",
    "    return data"
   ]
  },
  {
   "cell_type": "code",
   "execution_count": 68,
   "metadata": {},
   "outputs": [],
   "source": [
    "def get_all_data(data):\n",
    "    try:\n",
    "        # cookies = driver.find_element(By.ID, 'system-ialert-button')\n",
    "        # cookies.click()\n",
    "        data = get_data(data)\n",
    "        btn = driver.find_element(By.CSS_SELECTOR, '.next')\n",
    "        while 'disabled' not in btn.get_attribute(\"class\"):\n",
    "            btn.click()\n",
    "            time.sleep(0.5)\n",
    "            data = get_data(data)\n",
    "            btn = driver.find_element(By.CSS_SELECTOR, '.next')\n",
    "        return data\n",
    "    except Exception as e:\n",
    "        return data"
   ]
  },
  {
   "cell_type": "code",
   "execution_count": 69,
   "metadata": {},
   "outputs": [
    {
     "name": "stdout",
     "output_type": "stream",
     "text": [
      "[['Senior Lead Software Engineer, Full Stack', 'https://www.capitalonecareers.com/job/richmond/senior-lead-software-engineer-full-stack/1732/65475462608'], ['Senior Manager, Software Engineering, Full Stack (People Manager)', 'https://www.capitalonecareers.com/job/mclean/senior-manager-software-engineering-full-stack-people-manager/1732/65194279936'], ['Senior Manager, Software Engineering, Back End (Bank Tech)', 'https://www.capitalonecareers.com/job/new-york/senior-manager-software-engineering-back-end-bank-tech/1732/67477391104'], ['Senior Associate - Quantitative Analyst, Rotational Program', 'https://www.capitalonecareers.com/job/mclean/senior-associate-quantitative-analyst-rotational-program/1732/65047552240'], ['Sr. Business Analyst - Commercial Sustainable Finance', 'https://www.capitalonecareers.com/job/mclean/sr-business-analyst-commercial-sustainable-finance/1732/67469185008'], ['Senior Business Analyst, Retail Bank', 'https://www.capitalonecareers.com/job/mclean/senior-business-analyst-retail-bank/1732/61728894576'], ['Manager, Data Scientist, Generative AI Systems (Genesis)', 'https://www.capitalonecareers.com/job/mclean/manager-data-scientist-generative-ai-systems-genesis/1732/67468422368'], ['Senior Manager, Solution Architect', 'https://www.capitalonecareers.com/job/san-francisco/senior-manager-solution-architect/1732/67390239904'], ['Director, Software Engineering (Bank Tech)', 'https://www.capitalonecareers.com/job/mclean/director-software-engineering-bank-tech/1732/67468422000'], ['Applied Researcher II', 'https://www.capitalonecareers.com/job/mclean/applied-researcher-ii/1732/58008922960'], ['Sr. Business Analyst - Capital Risk Oversight', 'https://www.capitalonecareers.com/job/mclean/sr-business-analyst-capital-risk-oversight/1732/66122799728'], ['Senior Associate, Data Scientist - Enterprise Tech Analytics', 'https://www.capitalonecareers.com/job/richmond/senior-associate-data-scientist-enterprise-tech-analytics/1732/64374765120'], ['Senior Lead Software Engineer, Back End', 'https://www.capitalonecareers.com/job/richmond/senior-lead-software-engineer-back-end/1732/67438734288'], ['Sr. Business Manager, SEO Marketing - Capital One Shopping (Remote-Eligible)', 'https://www.capitalonecareers.com/job/mclean/sr-business-manager-seo-marketing-capital-one-shopping-remote-eligible/1732/67438733888'], ['Senior Lead Software Engineer, Full Stack', 'https://www.capitalonecareers.com/job/richmond/senior-lead-software-engineer-full-stack/1732/66442898384'], ['Senior Lead Software Engineer, Full Stack', 'https://www.capitalonecareers.com/job/richmond/senior-lead-software-engineer-full-stack/1732/65478410608'], ['Senior Manager, Software Engineering, DevOps', 'https://www.capitalonecareers.com/job/new-york/senior-manager-software-engineering-devops/1732/67429504016'], ['Senior Data Scientist, AI Foundations', 'https://www.capitalonecareers.com/job/mclean/senior-data-scientist-ai-foundations/1732/67425658160'], ['Sr. Director Software Engineering - Card Segments', 'https://www.capitalonecareers.com/job/mclean/sr-director-software-engineering-card-segments/1732/67425658208'], ['Sr. Business Analyst- TM Sales Analytics', 'https://www.capitalonecareers.com/job/mclean/sr-business-analyst-tm-sales-analytics/1732/67425658144'], ['Distinguished Engineer (Director IC) - Card Authorizations', 'https://www.capitalonecareers.com/job/new-york/distinguished-engineer-director-ic-card-authorizations/1732/67425658128'], ['Senior Associate - Quantitative Analyst', 'https://www.capitalonecareers.com/job/mclean/senior-associate-quantitative-analyst/1732/66045082640'], ['Senior Manager, Software Engineering, Back End, (Bank Tech)', 'https://www.capitalonecareers.com/job/wilmington/senior-manager-software-engineering-back-end-bank-tech/1732/66560599824'], ['Senior Lead Software Engineer, Back End', 'https://www.capitalonecareers.com/job/mclean/senior-lead-software-engineer-back-end/1732/67420912304'], ['Senior Manager, Software Engineering, Back End (Bank Tech)', 'https://www.capitalonecareers.com/job/mclean/senior-manager-software-engineering-back-end-bank-tech/1732/66817478656'], ['Senior Manager, Data Science - LLM Customization Team', 'https://www.capitalonecareers.com/job/mclean/senior-manager-data-science-llm-customization-team/1732/67391133248'], ['Sr Lead Data Platform Engineer, Shopping', 'https://www.capitalonecareers.com/job/remote/sr-lead-data-platform-engineer-shopping/1732/67390240000'], ['Senior Manager, Data Science - Business Card & Payments', 'https://www.capitalonecareers.com/job/new-york/senior-manager-data-science-business-card-and-payments/1732/63204809680'], ['Director, Product Management - Enterprise Data', 'https://www.capitalonecareers.com/job/mclean/director-product-management-enterprise-data/1732/66279080576'], ['Director, Generative AI - Agents and Tooling - People Leader (Remote Eligible)', 'https://www.capitalonecareers.com/job/san-francisco/director-generative-ai-agents-and-tooling-people-leader-remote-eligible/1732/66270465536'], ['Senior Lead Software Engineer, Full Stack', 'https://www.capitalonecareers.com/job/richmond/senior-lead-software-engineer-full-stack/1732/65478410608'], ['Senior Manager, Software Engineering, DevOps', 'https://www.capitalonecareers.com/job/new-york/senior-manager-software-engineering-devops/1732/67429504016'], ['Senior Data Scientist, AI Foundations', 'https://www.capitalonecareers.com/job/mclean/senior-data-scientist-ai-foundations/1732/67425658160'], ['Sr. Director Software Engineering - Card Segments', 'https://www.capitalonecareers.com/job/mclean/sr-director-software-engineering-card-segments/1732/67425658208'], ['Sr. Business Analyst- TM Sales Analytics', 'https://www.capitalonecareers.com/job/mclean/sr-business-analyst-tm-sales-analytics/1732/67425658144'], ['Distinguished Engineer (Director IC) - Card Authorizations', 'https://www.capitalonecareers.com/job/new-york/distinguished-engineer-director-ic-card-authorizations/1732/67425658128'], ['Senior Associate - Quantitative Analyst', 'https://www.capitalonecareers.com/job/mclean/senior-associate-quantitative-analyst/1732/66045082640'], ['Senior Manager, Software Engineering, Back End, (Bank Tech)', 'https://www.capitalonecareers.com/job/wilmington/senior-manager-software-engineering-back-end-bank-tech/1732/66560599824'], ['Senior Lead Software Engineer, Back End', 'https://www.capitalonecareers.com/job/mclean/senior-lead-software-engineer-back-end/1732/67420912304'], ['Senior Manager, Software Engineering, Back End (Bank Tech)', 'https://www.capitalonecareers.com/job/mclean/senior-manager-software-engineering-back-end-bank-tech/1732/66817478656'], ['Senior Manager, Data Science - LLM Customization Team', 'https://www.capitalonecareers.com/job/mclean/senior-manager-data-science-llm-customization-team/1732/67391133248'], ['Sr Lead Data Platform Engineer, Shopping', 'https://www.capitalonecareers.com/job/remote/sr-lead-data-platform-engineer-shopping/1732/67390240000'], ['Senior Manager, Data Science - Business Card & Payments', 'https://www.capitalonecareers.com/job/new-york/senior-manager-data-science-business-card-and-payments/1732/63204809680'], ['Director, Product Management - Enterprise Data', 'https://www.capitalonecareers.com/job/mclean/director-product-management-enterprise-data/1732/66279080576'], ['Director, Generative AI - Agents and Tooling - People Leader (Remote Eligible)', 'https://www.capitalonecareers.com/job/san-francisco/director-generative-ai-agents-and-tooling-people-leader-remote-eligible/1732/66270465536'], ['Senior Manager, Software Engineer, Full Stack', 'https://www.capitalonecareers.com/job/richmond/senior-manager-software-engineer-full-stack/1732/60463338944'], ['Senior Associate Data Scientist - Statistical Analysis, Financial Services', 'https://www.capitalonecareers.com/job/plano/senior-associate-data-scientist-statistical-analysis-financial-services/1732/56696462448'], ['Business Manager - Consumer Identity', 'https://www.capitalonecareers.com/job/mclean/business-manager-consumer-identity/1732/61420195952'], ['Distinguished Engineer, Generative AI Systems (Remote-Eligible)', 'https://www.capitalonecareers.com/job/new-york/distinguished-engineer-generative-ai-systems-remote-eligible/1732/55676317984'], ['Senior Associate Data Scientist - Machine Learning, Financial Services', 'https://www.capitalonecareers.com/job/plano/senior-associate-data-scientist-machine-learning-financial-services/1732/56700159792'], ['Manager, Data Scientist - Business Card & Payments', 'https://www.capitalonecareers.com/job/new-york/manager-data-scientist-business-card-and-payments/1732/60376116016'], ['Senior Lead Engineer - Generative AI Infrastructure (Remote-Eligible)', 'https://www.capitalonecareers.com/job/new-york/senior-lead-engineer-generative-ai-infrastructure-remote-eligible/1732/59725252992'], ['Sr Business Analyst, Capital One Shopping (Remote-Eligible)', 'https://www.capitalonecareers.com/job/mclean/sr-business-analyst-capital-one-shopping-remote-eligible/1732/60741183040'], ['Applied Researcher I', 'https://www.capitalonecareers.com/job/new-york/applied-researcher-i/1732/60419460096'], ['Applied Researcher II', 'https://www.capitalonecareers.com/job/new-york/applied-researcher-ii/1732/61420196016'], ['Applied Researcher I', 'https://www.capitalonecareers.com/job/mclean/applied-researcher-i/1732/59597814480'], ['Distinguished Engineer - Capital One Software (Remote-Eligible)', 'https://www.capitalonecareers.com/job/mclean/distinguished-engineer-capital-one-software-remote-eligible/1732/61375780256'], ['Applied Researcher I', 'https://www.capitalonecareers.com/job/mclean/applied-researcher-i/1732/61331923600'], ['Sr. Distinguished Applied Researcher', 'https://www.capitalonecareers.com/job/mclean/sr-distinguished-applied-researcher/1732/61252159488'], ['Distinguished Applied Researcher', 'https://www.capitalonecareers.com/job/mclean/distinguished-applied-researcher/1732/61252158992'], ['Business Manager, Capital One Shopping (Remote-Eligible)', 'https://www.capitalonecareers.com/job/mclean/business-manager-capital-one-shopping-remote-eligible/1732/61037064416'], ['Senior Associate Data Scientist - Commercial Pricing & Profitability Team', 'https://www.capitalonecareers.com/job/new-york/senior-associate-data-scientist-commercial-pricing-and-profitability-team/1732/60768542624'], ['Senior Manager, Data Science - Business Card & Payments', 'https://www.capitalonecareers.com/job/new-york/senior-manager-data-science-business-card-and-payments/1732/60376116784'], ['Manager, Data Science - Financial Services', 'https://www.capitalonecareers.com/job/plano/manager-data-science-financial-services/1732/56884730560'], ['Business Manager, Bank Customer Resiliency', 'https://www.capitalonecareers.com/job/richmond/business-manager-bank-customer-resiliency/1732/67123268288'], ['Distinguished Engineer - Developer Experience', 'https://www.capitalonecareers.com/job/mclean/distinguished-engineer-developer-experience/1732/67123267904'], ['Principal Data Scientist', 'https://www.capitalonecareers.com/job/mclean/principal-data-scientist/1732/67114654944'], ['Director, Product Management - Cloud Security', 'https://www.capitalonecareers.com/job/mclean/director-product-management-cloud-security/1732/61997917200'], ['Senior Manager, Data Science - Specialist Models', 'https://www.capitalonecareers.com/job/mclean/senior-manager-data-science-specialist-models/1732/67093722176'], ['Senior Manager, Software Engineering, Back End (People Leader)', 'https://www.capitalonecareers.com/job/mclean/senior-manager-software-engineering-back-end-people-leader/1732/67093721200'], ['Applied Researcher I', 'https://www.capitalonecareers.com/job/mclean/applied-researcher-i/1732/58002335104'], ['Senior Lead Data Engineer', 'https://www.capitalonecareers.com/job/mclean/senior-lead-data-engineer/1732/61989579024'], ['Senior Associate, Data Science - Retail Bank', 'https://www.capitalonecareers.com/job/richmond/senior-associate-data-science-retail-bank/1732/61979056288'], ['Manager, Data Science - AI Systems', 'https://www.capitalonecareers.com/job/plano/manager-data-science-ai-systems/1732/61891582864'], ['Principal Data Scientist, Experimentation & Personalization', 'https://www.capitalonecareers.com/job/mclean/principal-data-scientist-experimentation-and-personalization/1732/61901213552'], ['Principal Data Scientist - Emerging ML', 'https://www.capitalonecareers.com/job/mclean/principal-data-scientist-emerging-ml/1732/67085670464'], ['Senior Quantitative Analyst - Global Finance', 'https://www.capitalonecareers.com/job/mclean/senior-quantitative-analyst-global-finance/1732/67076955936'], ['Director, Software Engineering', 'https://www.capitalonecareers.com/job/mclean/director-software-engineering/1732/67076955808'], ['Sr. Business Manager, Head of Paid Search Marketing - Capital One Shopping (Remote-Eligible)', 'https://www.capitalonecareers.com/job/mclean/sr-business-manager-head-of-paid-search-marketing-capital-one-shopping-remote-eligible/1732/67047160048'], ['Director of Product Strategy & Operations', 'https://www.capitalonecareers.com/job/mclean/director-of-product-strategy-and-operations/1732/67047159968'], ['Principal Data Scientist', 'https://www.capitalonecareers.com/job/mclean/principal-data-scientist/1732/67047159904'], ['Business Manager - CR&A, Commercial Resilience, Limits, and Reporting', 'https://www.capitalonecareers.com/job/mclean/business-manager-cr-and-a-commercial-resilience-limits-and-reporting/1732/66542510912'], ['Distinguished Engineer - Android Platforms', 'https://www.capitalonecareers.com/job/mclean/distinguished-engineer-android-platforms/1732/66941571264'], ['Director, Product Management-Data Risk Management & Quality', 'https://www.capitalonecareers.com/job/mclean/director-product-management-data-risk-management-and-quality/1732/66941571184'], ['Distinguished Engineer', 'https://www.capitalonecareers.com/job/mclean/distinguished-engineer/1732/66933449856'], ['Manager, Data Analysis', 'https://www.capitalonecareers.com/job/mclean/manager-data-analysis/1732/59854638512'], ['Distinguished Engineer', 'https://www.capitalonecareers.com/job/mclean/distinguished-engineer/1732/66933449600'], ['Senior Lead Software Engineer, Front End - IC', 'https://www.capitalonecareers.com/job/plano/senior-lead-software-engineer-front-end-ic/1732/66933449568'], ['Senior Data Scientist, US Card Management', 'https://www.capitalonecareers.com/job/mclean/senior-data-scientist-us-card-management/1732/66933449440'], ['Principal Associate, Data Scientist, Model Risk Office', 'https://www.capitalonecareers.com/job/mclean/principal-associate-data-scientist-model-risk-office/1732/66924942688'], ['Director of Product, Endpoint Automation', 'https://www.capitalonecareers.com/job/mclean/director-of-product-endpoint-automation/1732/65194280224'], ['Sr. Director Cyber Software Engineering', 'https://www.capitalonecareers.com/job/mclean/sr-director-cyber-software-engineering/1732/64279923936'], ['Sr. Director, Product Management - Developer Experience Organization', 'https://www.capitalonecareers.com/job/mclean/sr-director-product-management-developer-experience-organization/1732/66847354000'], ['Director, Product Management - Developer Experience Organization', 'https://www.capitalonecareers.com/job/mclean/director-product-management-developer-experience-organization/1732/66847353952'], ['Applied Researcher I', 'https://www.capitalonecareers.com/job/mclean/applied-researcher-i/1732/66894481536'], ['Senior Manager, Software Engineering, Back End', 'https://www.capitalonecareers.com/job/san-francisco/senior-manager-software-engineering-back-end/1732/66855645184'], ['Manager, Business Analytics - Capital One Software (Remote-Eligible)', 'https://www.capitalonecareers.com/job/mclean/manager-business-analytics-capital-one-software-remote-eligible/1732/66855645024'], ['Distinguished Engineer, Data Architecture', 'https://www.capitalonecareers.com/job/mclean/distinguished-engineer-data-architecture/1732/66855645008'], ['Principal Data Scientist - Fraud, Deep Learning', 'https://www.capitalonecareers.com/job/new-york/principal-data-scientist-fraud-deep-learning/1732/65770772192'], ['Manager, Data Science - Fraud, Deep Learning', 'https://www.capitalonecareers.com/job/new-york/manager-data-science-fraud-deep-learning/1732/66847353968'], ['Principal Data Scientist - LLM Customization Team', 'https://www.capitalonecareers.com/job/mclean/principal-data-scientist-llm-customization-team/1732/63983050416'], ['Sr. Director, Product Management - Enterprise Supplier Management (ESM)', 'https://www.capitalonecareers.com/job/richmond/sr-director-product-management-enterprise-supplier-management-esm/1732/66847353856'], ['Business Director - Enterprise Supplier Management (ESM)', 'https://www.capitalonecareers.com/job/richmond/business-director-enterprise-supplier-management-esm/1732/66847353440'], ['Senior Data Analyst', 'https://www.capitalonecareers.com/job/mclean/senior-data-analyst/1732/65455325632'], ['Sr. Distinguished Engineer (Sr. Director IC) - Business Card & Payments', 'https://www.capitalonecareers.com/job/mclean/sr-distinguished-engineer-sr-director-ic-business-card-and-payments/1732/66817478928'], ['Director of Product, Endpoint Automation', 'https://www.capitalonecareers.com/job/mclean/director-of-product-endpoint-automation/1732/65194280224'], ['Sr. Director Cyber Software Engineering', 'https://www.capitalonecareers.com/job/mclean/sr-director-cyber-software-engineering/1732/64279923936'], ['Sr. Director, Product Management - Developer Experience Organization', 'https://www.capitalonecareers.com/job/mclean/sr-director-product-management-developer-experience-organization/1732/66847354000'], ['Director, Product Management - Developer Experience Organization', 'https://www.capitalonecareers.com/job/mclean/director-product-management-developer-experience-organization/1732/66847353952'], ['Applied Researcher I', 'https://www.capitalonecareers.com/job/mclean/applied-researcher-i/1732/66894481536'], ['Senior Manager, Software Engineering, Back End', 'https://www.capitalonecareers.com/job/san-francisco/senior-manager-software-engineering-back-end/1732/66855645184'], ['Manager, Business Analytics - Capital One Software (Remote-Eligible)', 'https://www.capitalonecareers.com/job/mclean/manager-business-analytics-capital-one-software-remote-eligible/1732/66855645024'], ['Distinguished Engineer, Data Architecture', 'https://www.capitalonecareers.com/job/mclean/distinguished-engineer-data-architecture/1732/66855645008'], ['Principal Data Scientist - Fraud, Deep Learning', 'https://www.capitalonecareers.com/job/new-york/principal-data-scientist-fraud-deep-learning/1732/65770772192'], ['Manager, Data Science - Fraud, Deep Learning', 'https://www.capitalonecareers.com/job/new-york/manager-data-science-fraud-deep-learning/1732/66847353968'], ['Principal Data Scientist - LLM Customization Team', 'https://www.capitalonecareers.com/job/mclean/principal-data-scientist-llm-customization-team/1732/63983050416'], ['Sr. Director, Product Management - Enterprise Supplier Management (ESM)', 'https://www.capitalonecareers.com/job/richmond/sr-director-product-management-enterprise-supplier-management-esm/1732/66847353856'], ['Business Director - Enterprise Supplier Management (ESM)', 'https://www.capitalonecareers.com/job/richmond/business-director-enterprise-supplier-management-esm/1732/66847353440'], ['Senior Data Analyst', 'https://www.capitalonecareers.com/job/mclean/senior-data-analyst/1732/65455325632'], ['Sr. Distinguished Engineer (Sr. Director IC) - Business Card & Payments', 'https://www.capitalonecareers.com/job/mclean/sr-distinguished-engineer-sr-director-ic-business-card-and-payments/1732/66817478928'], ['Senior Manager, Software Engineering, Full Stack (Bank Tech)', 'https://www.capitalonecareers.com/job/new-york/senior-manager-software-engineering-full-stack-bank-tech/1732/65860666480'], ['Senior Lead Software Engineer, Full Stack, Bank Tech', 'https://www.capitalonecareers.com/job/richmond/senior-lead-software-engineer-full-stack-bank-tech/1732/66230712384'], ['Senior Distinguished Engineer (Enterprise data storage and consumption platforms) (Remote-Eligible)', 'https://www.capitalonecareers.com/job/mclean/senior-distinguished-engineer-enterprise-data-storage-and-consumption-platforms-remote-eligible/1732/64948080272'], ['Director, Data Scientist - Marketing Intelligence', 'https://www.capitalonecareers.com/job/mclean/director-data-scientist-marketing-intelligence/1732/66552585952'], ['Senior Manager, Software Engineering (People Manager)', 'https://www.capitalonecareers.com/job/mclean/senior-manager-software-engineering-people-manager/1732/66552585488'], ['Sr. Distinguished Engineer (Sr. Director IC) - Card Authorizations', 'https://www.capitalonecareers.com/job/mclean/sr-distinguished-engineer-sr-director-ic-card-authorizations/1732/66520138192'], ['Senior Manager, Generative AI Product Engineering - People Leader - (Remote Eligible)', 'https://www.capitalonecareers.com/job/san-francisco/senior-manager-generative-ai-product-engineering-people-leader-remote-eligible/1732/66511867648'], ['Principal Data Scientist, US Card Management', 'https://www.capitalonecareers.com/job/mclean/principal-data-scientist-us-card-management/1732/66511867616'], ['Senior Manager, Generative AI Product Engineering - People Leader - (Remote Eligible)', 'https://www.capitalonecareers.com/job/new-york/senior-manager-generative-ai-product-engineering-people-leader-remote-eligible/1732/66511867536'], ['Senior Manager, Software Engineering - Full Stack', 'https://www.capitalonecareers.com/job/mexico-city/senior-manager-software-engineering-full-stack/1732/66405200064'], ['Distinguished Engineer - Consumer Data', 'https://www.capitalonecareers.com/job/plano/distinguished-engineer-consumer-data/1732/66405199344'], ['Director, Software Engineering - Consumer Data', 'https://www.capitalonecareers.com/job/plano/director-software-engineering-consumer-data/1732/66397569376'], ['Senior Business Manager, Head of First Party Application Fraud', 'https://www.capitalonecareers.com/job/mclean/senior-business-manager-head-of-first-party-application-fraud/1732/66279080608'], ['Senior Manager, Data Engineering (People Manager)', 'https://www.capitalonecareers.com/job/plano/senior-manager-data-engineering-people-manager/1732/66396670768']]\n"
     ]
    }
   ],
   "source": [
    "data = get_all_data([])\n",
    "print(data)"
   ]
  },
  {
   "cell_type": "code",
   "execution_count": 70,
   "metadata": {},
   "outputs": [
    {
     "data": {
      "text/html": [
       "<div>\n",
       "<style scoped>\n",
       "    .dataframe tbody tr th:only-of-type {\n",
       "        vertical-align: middle;\n",
       "    }\n",
       "\n",
       "    .dataframe tbody tr th {\n",
       "        vertical-align: top;\n",
       "    }\n",
       "\n",
       "    .dataframe thead th {\n",
       "        text-align: right;\n",
       "    }\n",
       "</style>\n",
       "<table border=\"1\" class=\"dataframe\">\n",
       "  <thead>\n",
       "    <tr style=\"text-align: right;\">\n",
       "      <th></th>\n",
       "      <th>Name</th>\n",
       "      <th>Link</th>\n",
       "    </tr>\n",
       "  </thead>\n",
       "  <tbody>\n",
       "    <tr>\n",
       "      <th>0</th>\n",
       "      <td>Senior Lead Software Engineer, Full Stack</td>\n",
       "      <td>https://www.capitalonecareers.com/job/richmond...</td>\n",
       "    </tr>\n",
       "    <tr>\n",
       "      <th>1</th>\n",
       "      <td>Senior Manager, Software Engineering, Full Sta...</td>\n",
       "      <td>https://www.capitalonecareers.com/job/mclean/s...</td>\n",
       "    </tr>\n",
       "    <tr>\n",
       "      <th>2</th>\n",
       "      <td>Senior Manager, Software Engineering, Back End...</td>\n",
       "      <td>https://www.capitalonecareers.com/job/new-york...</td>\n",
       "    </tr>\n",
       "    <tr>\n",
       "      <th>3</th>\n",
       "      <td>Senior Associate - Quantitative Analyst, Rotat...</td>\n",
       "      <td>https://www.capitalonecareers.com/job/mclean/s...</td>\n",
       "    </tr>\n",
       "    <tr>\n",
       "      <th>4</th>\n",
       "      <td>Sr. Business Analyst - Commercial Sustainable ...</td>\n",
       "      <td>https://www.capitalonecareers.com/job/mclean/s...</td>\n",
       "    </tr>\n",
       "    <tr>\n",
       "      <th>...</th>\n",
       "      <td>...</td>\n",
       "      <td>...</td>\n",
       "    </tr>\n",
       "    <tr>\n",
       "      <th>129</th>\n",
       "      <td>Senior Manager, Software Engineering - Full Stack</td>\n",
       "      <td>https://www.capitalonecareers.com/job/mexico-c...</td>\n",
       "    </tr>\n",
       "    <tr>\n",
       "      <th>130</th>\n",
       "      <td>Distinguished Engineer - Consumer Data</td>\n",
       "      <td>https://www.capitalonecareers.com/job/plano/di...</td>\n",
       "    </tr>\n",
       "    <tr>\n",
       "      <th>131</th>\n",
       "      <td>Director, Software Engineering - Consumer Data</td>\n",
       "      <td>https://www.capitalonecareers.com/job/plano/di...</td>\n",
       "    </tr>\n",
       "    <tr>\n",
       "      <th>132</th>\n",
       "      <td>Senior Business Manager, Head of First Party A...</td>\n",
       "      <td>https://www.capitalonecareers.com/job/mclean/s...</td>\n",
       "    </tr>\n",
       "    <tr>\n",
       "      <th>133</th>\n",
       "      <td>Senior Manager, Data Engineering (People Manager)</td>\n",
       "      <td>https://www.capitalonecareers.com/job/plano/se...</td>\n",
       "    </tr>\n",
       "  </tbody>\n",
       "</table>\n",
       "<p>134 rows × 2 columns</p>\n",
       "</div>"
      ],
      "text/plain": [
       "                                                  Name  \\\n",
       "0            Senior Lead Software Engineer, Full Stack   \n",
       "1    Senior Manager, Software Engineering, Full Sta...   \n",
       "2    Senior Manager, Software Engineering, Back End...   \n",
       "3    Senior Associate - Quantitative Analyst, Rotat...   \n",
       "4    Sr. Business Analyst - Commercial Sustainable ...   \n",
       "..                                                 ...   \n",
       "129  Senior Manager, Software Engineering - Full Stack   \n",
       "130             Distinguished Engineer - Consumer Data   \n",
       "131     Director, Software Engineering - Consumer Data   \n",
       "132  Senior Business Manager, Head of First Party A...   \n",
       "133  Senior Manager, Data Engineering (People Manager)   \n",
       "\n",
       "                                                  Link  \n",
       "0    https://www.capitalonecareers.com/job/richmond...  \n",
       "1    https://www.capitalonecareers.com/job/mclean/s...  \n",
       "2    https://www.capitalonecareers.com/job/new-york...  \n",
       "3    https://www.capitalonecareers.com/job/mclean/s...  \n",
       "4    https://www.capitalonecareers.com/job/mclean/s...  \n",
       "..                                                 ...  \n",
       "129  https://www.capitalonecareers.com/job/mexico-c...  \n",
       "130  https://www.capitalonecareers.com/job/plano/di...  \n",
       "131  https://www.capitalonecareers.com/job/plano/di...  \n",
       "132  https://www.capitalonecareers.com/job/mclean/s...  \n",
       "133  https://www.capitalonecareers.com/job/plano/se...  \n",
       "\n",
       "[134 rows x 2 columns]"
      ]
     },
     "execution_count": 70,
     "metadata": {},
     "output_type": "execute_result"
    }
   ],
   "source": [
    "df = pd.DataFrame(data, columns=[\"Name\", \"Link\"])\n",
    "df"
   ]
  },
  {
   "cell_type": "code",
   "execution_count": 56,
   "metadata": {},
   "outputs": [],
   "source": [
    "df.to_csv(\"../CSV/c1.csv\")"
   ]
  },
  {
   "cell_type": "code",
   "execution_count": 57,
   "metadata": {},
   "outputs": [],
   "source": [
    "driver.quit()"
   ]
  }
 ],
 "metadata": {
  "kernelspec": {
   "display_name": "Python 3",
   "language": "python",
   "name": "python3"
  },
  "language_info": {
   "codemirror_mode": {
    "name": "ipython",
    "version": 3
   },
   "file_extension": ".py",
   "mimetype": "text/x-python",
   "name": "python",
   "nbconvert_exporter": "python",
   "pygments_lexer": "ipython3",
   "version": "3.11.8"
  }
 },
 "nbformat": 4,
 "nbformat_minor": 2
}
