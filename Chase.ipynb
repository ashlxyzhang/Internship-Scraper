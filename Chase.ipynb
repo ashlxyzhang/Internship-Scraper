{
 "cells": [
  {
   "cell_type": "code",
   "execution_count": 3,
   "metadata": {},
   "outputs": [],
   "source": [
    "import os\n",
    "from selenium import webdriver\n",
    "from selenium.webdriver.common.by import By\n",
    "from selenium.webdriver.support.ui import WebDriverWait\n",
    "from selenium.webdriver.support import expected_conditions as EC"
   ]
  },
  {
   "cell_type": "code",
   "execution_count": 4,
   "metadata": {},
   "outputs": [],
   "source": [
    "chromedriver_path = \"/Users/ashley/Downloads/chromedriver-mac-arm64\"\n",
    "os.environ['PATH'] += os.pathsep + chromedriver_path"
   ]
  },
  {
   "cell_type": "code",
   "execution_count": 5,
   "metadata": {},
   "outputs": [],
   "source": [
    "url = \"https://careers.jpmorgan.com/us/en/students/programs\"\n",
    "driver = webdriver.Chrome()"
   ]
  },
  {
   "cell_type": "code",
   "execution_count": 6,
   "metadata": {},
   "outputs": [],
   "source": [
    "driver.get(url)"
   ]
  },
  {
   "cell_type": "code",
   "execution_count": 9,
   "metadata": {},
   "outputs": [
    {
     "name": "stdout",
     "output_type": "stream",
     "text": [
      "done\n"
     ]
    }
   ],
   "source": [
    "try:\n",
    "    checkbox = WebDriverWait(driver, 10).until(\n",
    "        EC.presence_of_element_located((By.ID, 'filter-found-show-open-check'))\n",
    "        # EC.presence_of_element_located((By.CSS_SELECTOR, '.filter-display-card .active'))\n",
    "    )\n",
    "    if not checkbox.is_selected():\n",
    "        checkbox.click()\n",
    "finally:\n",
    "    print(\"done\")"
   ]
  },
  {
   "cell_type": "code",
   "execution_count": 8,
   "metadata": {},
   "outputs": [
    {
     "name": "stdout",
     "output_type": "stream",
     "text": [
      "None\n",
      "https://careers.jpmorgan.com/us/en/students/programs/markets-summer-analyst\n",
      "https://careers.jpmorgan.com/us/en/students/programs/wholesale-payments-corporate-banking-summer-analyst\n",
      "https://careers.jpmorgan.com/us/en/students/programs/ccbsi-summer\n",
      "https://careers.jpmorgan.com/us/en/students/programs/risk-summer-analyst\n",
      "https://careers.jpmorgan.com/us/en/students/programs/wealth-management-summer-analyst\n",
      "https://careers.jpmorgan.com/us/en/students/programs/sslp-summer-analyst\n",
      "https://careers.jpmorgan.com/us/en/students/programs/corporate-banking-summer-analyst\n",
      "https://careers.jpmorgan.com/us/en/students/programs/investment-banking-summer-analyst\n",
      "https://careers.jpmorgan.com/us/en/students/programs/asset-management-summer-analyst\n",
      "https://careers.jpmorgan.com/us/en/students/programs/mmbsi-summer\n",
      "https://careers.jpmorgan.com/us/en/students/programs/software-engineer-cohort\n",
      "https://careers.jpmorgan.com/us/en/students/programs/quant-fin-programs\n",
      "done\n"
     ]
    }
   ],
   "source": [
    "try:\n",
    "    internships = WebDriverWait(driver, 10).until(\n",
    "        EC.presence_of_all_elements_located((By.CSS_SELECTOR, '.filter-display-card.active'))\n",
    "    )\n",
    "    for internship in internships:\n",
    "        a = internship.find_element(By.TAG_NAME, 'a')\n",
    "        href = a.get_attribute(\"href\")\n",
    "        print(href)\n",
    "finally:\n",
    "    print(\"done\")"
   ]
  }
 ],
 "metadata": {
  "kernelspec": {
   "display_name": "Python 3",
   "language": "python",
   "name": "python3"
  },
  "language_info": {
   "codemirror_mode": {
    "name": "ipython",
    "version": 3
   },
   "file_extension": ".py",
   "mimetype": "text/x-python",
   "name": "python",
   "nbconvert_exporter": "python",
   "pygments_lexer": "ipython3",
   "version": "3.9.13"
  }
 },
 "nbformat": 4,
 "nbformat_minor": 2
}
