{
 "cells": [
  {
   "cell_type": "code",
   "execution_count": 74,
   "metadata": {},
   "outputs": [],
   "source": [
    "import os\n",
    "import pandas as pd\n",
    "from selenium import webdriver\n",
    "from selenium.webdriver.common.by import By\n",
    "from selenium.webdriver.support.ui import WebDriverWait\n",
    "from selenium.webdriver.support import expected_conditions as EC"
   ]
  },
  {
   "cell_type": "code",
   "execution_count": 75,
   "metadata": {},
   "outputs": [],
   "source": [
    "chromedriver_path = \"/Users/ashley/Downloads/chromedriver-mac-arm64\"\n",
    "os.environ['PATH'] += os.pathsep + chromedriver_path"
   ]
  },
  {
   "cell_type": "code",
   "execution_count": 24,
   "metadata": {},
   "outputs": [],
   "source": [
    "url = \"https://careers.jpmorgan.com/students/programs\"\n",
    "driver = webdriver.Chrome()"
   ]
  },
  {
   "cell_type": "code",
   "execution_count": 25,
   "metadata": {},
   "outputs": [],
   "source": [
    "driver.get(url)"
   ]
  },
  {
   "cell_type": "code",
   "execution_count": 76,
   "metadata": {},
   "outputs": [
    {
     "name": "stdout",
     "output_type": "stream",
     "text": [
      "open programs selected\n"
     ]
    }
   ],
   "source": [
    "try:\n",
    "    checkbox = WebDriverWait(driver, 10).until(\n",
    "        EC.presence_of_element_located((By.ID, 'filter-found-show-open-check'))\n",
    "        # EC.presence_of_element_located((By.CSS_SELECTOR, '.filter-display-card .active'))\n",
    "    )\n",
    "    if not checkbox.is_selected():\n",
    "        checkbox.click()\n",
    "finally:\n",
    "    print(\"open programs selected\")"
   ]
  },
  {
   "cell_type": "code",
   "execution_count": 100,
   "metadata": {},
   "outputs": [],
   "source": [
    "def get_tab_data(data):\n",
    "    try:\n",
    "        internships = WebDriverWait(driver, 10).until(\n",
    "            EC.presence_of_all_elements_located((By.CSS_SELECTOR, '.filter-display-card.active'))\n",
    "        )\n",
    "        for internship in internships:\n",
    "            a = internship.find_element(By.TAG_NAME, 'a')\n",
    "            href = a.get_attribute(\"href\")\n",
    "            title = a.text\n",
    "            if title != \"\":\n",
    "                data[title] = href\n",
    "        \n",
    "        return data\n",
    "\n",
    "    finally:\n",
    "        print(\"done\")\n"
   ]
  },
  {
   "cell_type": "code",
   "execution_count": 115,
   "metadata": {},
   "outputs": [
    {
     "name": "stdout",
     "output_type": "stream",
     "text": [
      "done\n",
      "done\n",
      "done\n",
      "data collected\n"
     ]
    }
   ],
   "source": [
    "data = {}\n",
    "try:\n",
    "    int_tab = WebDriverWait(driver, 10).until(\n",
    "        EC.presence_of_element_located((By.NAME, 'tab-1a3346da-ef7d-48c4-87e9-901ab01ea078_3-heading'))\n",
    "    )\n",
    "    prog_tab = WebDriverWait(driver, 10).until(\n",
    "        EC.presence_of_element_located((By.NAME, 'tab-1a3346da-ef7d-48c4-87e9-901ab01ea078_2-heading'))\n",
    "    )\n",
    "    ft_tab = WebDriverWait(driver, 10).until(\n",
    "        EC.presence_of_element_located((By.NAME, 'tab-1a3346da-ef7d-48c4-87e9-901ab01ea078_4-heading'))\n",
    "    )\n",
    "    int_tab.click()\n",
    "    data = get_tab_data(data, \"Internship\")\n",
    "    prog_tab.click()\n",
    "    data = get_tab_data(data, \"Program\")\n",
    "    ft_tab.click()\n",
    "    data = get_tab_data(data, \"Full Time\")\n",
    "finally:\n",
    "    print(\"data collected\")"
   ]
  },
  {
   "cell_type": "code",
   "execution_count": 116,
   "metadata": {},
   "outputs": [
    {
     "data": {
      "text/html": [
       "<div>\n",
       "<style scoped>\n",
       "    .dataframe tbody tr th:only-of-type {\n",
       "        vertical-align: middle;\n",
       "    }\n",
       "\n",
       "    .dataframe tbody tr th {\n",
       "        vertical-align: top;\n",
       "    }\n",
       "\n",
       "    .dataframe thead th {\n",
       "        text-align: right;\n",
       "    }\n",
       "</style>\n",
       "<table border=\"1\" class=\"dataframe\">\n",
       "  <thead>\n",
       "    <tr style=\"text-align: right;\">\n",
       "      <th></th>\n",
       "      <th>Name</th>\n",
       "      <th>Link</th>\n",
       "    </tr>\n",
       "  </thead>\n",
       "  <tbody>\n",
       "    <tr>\n",
       "      <th>0</th>\n",
       "      <td>Corporate Analyst Development Program Internship</td>\n",
       "      <td>https://careers.jpmorgan.com/us/en/students/pr...</td>\n",
       "    </tr>\n",
       "    <tr>\n",
       "      <th>1</th>\n",
       "      <td>Software Engineer Internship</td>\n",
       "      <td>https://careers.jpmorgan.com/us/en/students/pr...</td>\n",
       "    </tr>\n",
       "    <tr>\n",
       "      <th>2</th>\n",
       "      <td>Markets Internship</td>\n",
       "      <td>https://careers.jpmorgan.com/us/en/students/pr...</td>\n",
       "    </tr>\n",
       "    <tr>\n",
       "      <th>3</th>\n",
       "      <td>Payments Internship</td>\n",
       "      <td>https://careers.jpmorgan.com/us/en/students/pr...</td>\n",
       "    </tr>\n",
       "    <tr>\n",
       "      <th>4</th>\n",
       "      <td>Chase Leadership Development Program Internship</td>\n",
       "      <td>https://careers.jpmorgan.com/us/en/students/pr...</td>\n",
       "    </tr>\n",
       "    <tr>\n",
       "      <th>...</th>\n",
       "      <td>...</td>\n",
       "      <td>...</td>\n",
       "    </tr>\n",
       "    <tr>\n",
       "      <th>56</th>\n",
       "      <td>Markets Full-time Associate</td>\n",
       "      <td>https://careers.jpmorgan.com/us/en/students/pr...</td>\n",
       "    </tr>\n",
       "    <tr>\n",
       "      <th>57</th>\n",
       "      <td>Commercial Banking Innovation Development Program</td>\n",
       "      <td>https://careers.jpmorgan.com/us/en/students/pr...</td>\n",
       "    </tr>\n",
       "    <tr>\n",
       "      <th>58</th>\n",
       "      <td>Emerging Talent Software Engineers</td>\n",
       "      <td>https://careers.jpmorgan.com/us/en/students/pr...</td>\n",
       "    </tr>\n",
       "    <tr>\n",
       "      <th>59</th>\n",
       "      <td>Business Relationship Manager Trainee Program</td>\n",
       "      <td>https://careers.jpmorgan.com/us/en/students/pr...</td>\n",
       "    </tr>\n",
       "    <tr>\n",
       "      <th>60</th>\n",
       "      <td>Experienced Software Engineer Hiring</td>\n",
       "      <td>https://careers.jpmorgan.com/us/en/students/pr...</td>\n",
       "    </tr>\n",
       "  </tbody>\n",
       "</table>\n",
       "<p>61 rows × 2 columns</p>\n",
       "</div>"
      ],
      "text/plain": [
       "                                                 Name  \\\n",
       "0    Corporate Analyst Development Program Internship   \n",
       "1                        Software Engineer Internship   \n",
       "2                                  Markets Internship   \n",
       "3                                 Payments Internship   \n",
       "4     Chase Leadership Development Program Internship   \n",
       "..                                                ...   \n",
       "56                        Markets Full-time Associate   \n",
       "57  Commercial Banking Innovation Development Program   \n",
       "58                 Emerging Talent Software Engineers   \n",
       "59      Business Relationship Manager Trainee Program   \n",
       "60               Experienced Software Engineer Hiring   \n",
       "\n",
       "                                                 Link  \n",
       "0   https://careers.jpmorgan.com/us/en/students/pr...  \n",
       "1   https://careers.jpmorgan.com/us/en/students/pr...  \n",
       "2   https://careers.jpmorgan.com/us/en/students/pr...  \n",
       "3   https://careers.jpmorgan.com/us/en/students/pr...  \n",
       "4   https://careers.jpmorgan.com/us/en/students/pr...  \n",
       "..                                                ...  \n",
       "56  https://careers.jpmorgan.com/us/en/students/pr...  \n",
       "57  https://careers.jpmorgan.com/us/en/students/pr...  \n",
       "58  https://careers.jpmorgan.com/us/en/students/pr...  \n",
       "59  https://careers.jpmorgan.com/us/en/students/pr...  \n",
       "60  https://careers.jpmorgan.com/us/en/students/pr...  \n",
       "\n",
       "[61 rows x 2 columns]"
      ]
     },
     "execution_count": 116,
     "metadata": {},
     "output_type": "execute_result"
    }
   ],
   "source": [
    "df = pd.DataFrame(data.items(), columns=['Name', 'Link'])\n",
    "df"
   ]
  }
 ],
 "metadata": {
  "kernelspec": {
   "display_name": "Python 3",
   "language": "python",
   "name": "python3"
  },
  "language_info": {
   "codemirror_mode": {
    "name": "ipython",
    "version": 3
   },
   "file_extension": ".py",
   "mimetype": "text/x-python",
   "name": "python",
   "nbconvert_exporter": "python",
   "pygments_lexer": "ipython3",
   "version": "3.9.13"
  }
 },
 "nbformat": 4,
 "nbformat_minor": 2
}
