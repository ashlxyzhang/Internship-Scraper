{
 "cells": [
  {
   "cell_type": "code",
   "execution_count": 147,
   "metadata": {},
   "outputs": [],
   "source": [
    "import os\n",
    "import pandas as pd\n",
    "from selenium import webdriver\n",
    "from selenium.webdriver.common.by import By\n",
    "from selenium.webdriver.support.ui import WebDriverWait\n",
    "from selenium.webdriver.support import expected_conditions as EC"
   ]
  },
  {
   "cell_type": "code",
   "execution_count": 148,
   "metadata": {},
   "outputs": [],
   "source": [
    "chromedriver_path = \"/Users/ashley/Downloads/chromedriver-mac-arm64\"\n",
    "os.environ['PATH'] += os.pathsep + chromedriver_path"
   ]
  },
  {
   "cell_type": "code",
   "execution_count": 149,
   "metadata": {},
   "outputs": [],
   "source": [
    "url = \"https://careers.jpmorgan.com/US/en/students/programs\"\n",
    "driver = webdriver.Chrome()"
   ]
  },
  {
   "cell_type": "code",
   "execution_count": 150,
   "metadata": {},
   "outputs": [],
   "source": [
    "driver.get(url)"
   ]
  },
  {
   "cell_type": "code",
   "execution_count": 151,
   "metadata": {},
   "outputs": [
    {
     "name": "stdout",
     "output_type": "stream",
     "text": [
      "open programs selected\n"
     ]
    }
   ],
   "source": [
    "try:\n",
    "    checkbox = WebDriverWait(driver, 10).until(\n",
    "        EC.presence_of_element_located((By.ID, 'filter-found-show-open-check'))\n",
    "        # EC.presence_of_element_located((By.CSS_SELECTOR, '.filter-display-card .active'))\n",
    "    )\n",
    "    if not checkbox.is_selected():\n",
    "        checkbox.click()\n",
    "finally:\n",
    "    print(\"open programs selected\")"
   ]
  },
  {
   "cell_type": "code",
   "execution_count": 152,
   "metadata": {},
   "outputs": [],
   "source": [
    "def get_tab_data(data):\n",
    "    try:\n",
    "        internships = WebDriverWait(driver, 10).until(\n",
    "            EC.presence_of_all_elements_located((By.CSS_SELECTOR, '.filter-display-card.active'))\n",
    "        )\n",
    "        for internship in internships:\n",
    "            a = internship.find_element(By.TAG_NAME, 'a')\n",
    "            href = a.get_attribute(\"href\")\n",
    "            title = a.text\n",
    "            if title != \"\":\n",
    "                data.append([title, href])\n",
    "        \n",
    "        return data\n",
    "\n",
    "    finally:\n",
    "        print(\"done\")\n"
   ]
  },
  {
   "cell_type": "code",
   "execution_count": 153,
   "metadata": {},
   "outputs": [
    {
     "name": "stdout",
     "output_type": "stream",
     "text": [
      "done\n",
      "done\n",
      "done\n",
      "done\n",
      "data collected\n"
     ]
    }
   ],
   "source": [
    "data = []\n",
    "try:\n",
    "    tabs = WebDriverWait(driver, 10).until(\n",
    "        EC.presence_of_all_elements_located((By.CLASS_NAME, 'tab-nav-link'))\n",
    "    )\n",
    "    for tab in tabs:\n",
    "        tab.click()\n",
    "        data = get_tab_data(data)\n",
    "finally:\n",
    "    print(\"data collected\")"
   ]
  },
  {
   "cell_type": "code",
   "execution_count": 154,
   "metadata": {},
   "outputs": [
    {
     "data": {
      "text/html": [
       "<div>\n",
       "<style scoped>\n",
       "    .dataframe tbody tr th:only-of-type {\n",
       "        vertical-align: middle;\n",
       "    }\n",
       "\n",
       "    .dataframe tbody tr th {\n",
       "        vertical-align: top;\n",
       "    }\n",
       "\n",
       "    .dataframe thead th {\n",
       "        text-align: right;\n",
       "    }\n",
       "</style>\n",
       "<table border=\"1\" class=\"dataframe\">\n",
       "  <thead>\n",
       "    <tr style=\"text-align: right;\">\n",
       "      <th></th>\n",
       "      <th>Name</th>\n",
       "      <th>Link</th>\n",
       "    </tr>\n",
       "  </thead>\n",
       "  <tbody>\n",
       "    <tr>\n",
       "      <th>0</th>\n",
       "      <td>Markets Internship</td>\n",
       "      <td>https://careers.jpmorgan.com/us/en/students/pr...</td>\n",
       "    </tr>\n",
       "    <tr>\n",
       "      <th>1</th>\n",
       "      <td>Payments Internship</td>\n",
       "      <td>https://careers.jpmorgan.com/us/en/students/pr...</td>\n",
       "    </tr>\n",
       "    <tr>\n",
       "      <th>2</th>\n",
       "      <td>Corporate Client Banking &amp; Specialized Industr...</td>\n",
       "      <td>https://careers.jpmorgan.com/us/en/students/pr...</td>\n",
       "    </tr>\n",
       "    <tr>\n",
       "      <th>3</th>\n",
       "      <td>Risk Management Internship</td>\n",
       "      <td>https://careers.jpmorgan.com/us/en/students/pr...</td>\n",
       "    </tr>\n",
       "    <tr>\n",
       "      <th>4</th>\n",
       "      <td>Global Private Bank Internship</td>\n",
       "      <td>https://careers.jpmorgan.com/us/en/students/pr...</td>\n",
       "    </tr>\n",
       "    <tr>\n",
       "      <th>5</th>\n",
       "      <td>Securities Services Leadership Program</td>\n",
       "      <td>https://careers.jpmorgan.com/us/en/students/pr...</td>\n",
       "    </tr>\n",
       "    <tr>\n",
       "      <th>6</th>\n",
       "      <td>Global Corporate Banking Analyst Internship</td>\n",
       "      <td>https://careers.jpmorgan.com/us/en/students/pr...</td>\n",
       "    </tr>\n",
       "    <tr>\n",
       "      <th>7</th>\n",
       "      <td>Investment Banking Analyst Internship</td>\n",
       "      <td>https://careers.jpmorgan.com/us/en/students/pr...</td>\n",
       "    </tr>\n",
       "    <tr>\n",
       "      <th>8</th>\n",
       "      <td>Asset Management Internship</td>\n",
       "      <td>https://careers.jpmorgan.com/us/en/students/pr...</td>\n",
       "    </tr>\n",
       "    <tr>\n",
       "      <th>9</th>\n",
       "      <td>Middle Market Banking &amp; Specialized Industries...</td>\n",
       "      <td>https://careers.jpmorgan.com/us/en/students/pr...</td>\n",
       "    </tr>\n",
       "    <tr>\n",
       "      <th>10</th>\n",
       "      <td>Quantitative Finance Programs</td>\n",
       "      <td>https://careers.jpmorgan.com/us/en/students/pr...</td>\n",
       "    </tr>\n",
       "    <tr>\n",
       "      <th>11</th>\n",
       "      <td>Experienced Software Engineer Hiring</td>\n",
       "      <td>https://careers.jpmorgan.com/us/en/students/pr...</td>\n",
       "    </tr>\n",
       "  </tbody>\n",
       "</table>\n",
       "</div>"
      ],
      "text/plain": [
       "                                                 Name  \\\n",
       "0                                  Markets Internship   \n",
       "1                                 Payments Internship   \n",
       "2   Corporate Client Banking & Specialized Industr...   \n",
       "3                          Risk Management Internship   \n",
       "4                      Global Private Bank Internship   \n",
       "5              Securities Services Leadership Program   \n",
       "6         Global Corporate Banking Analyst Internship   \n",
       "7               Investment Banking Analyst Internship   \n",
       "8                         Asset Management Internship   \n",
       "9   Middle Market Banking & Specialized Industries...   \n",
       "10                      Quantitative Finance Programs   \n",
       "11               Experienced Software Engineer Hiring   \n",
       "\n",
       "                                                 Link  \n",
       "0   https://careers.jpmorgan.com/us/en/students/pr...  \n",
       "1   https://careers.jpmorgan.com/us/en/students/pr...  \n",
       "2   https://careers.jpmorgan.com/us/en/students/pr...  \n",
       "3   https://careers.jpmorgan.com/us/en/students/pr...  \n",
       "4   https://careers.jpmorgan.com/us/en/students/pr...  \n",
       "5   https://careers.jpmorgan.com/us/en/students/pr...  \n",
       "6   https://careers.jpmorgan.com/us/en/students/pr...  \n",
       "7   https://careers.jpmorgan.com/us/en/students/pr...  \n",
       "8   https://careers.jpmorgan.com/us/en/students/pr...  \n",
       "9   https://careers.jpmorgan.com/us/en/students/pr...  \n",
       "10  https://careers.jpmorgan.com/us/en/students/pr...  \n",
       "11  https://careers.jpmorgan.com/us/en/students/pr...  "
      ]
     },
     "execution_count": 154,
     "metadata": {},
     "output_type": "execute_result"
    }
   ],
   "source": [
    "df = pd.DataFrame(data, columns=['Name', 'Link'])\n",
    "df"
   ]
  }
 ],
 "metadata": {
  "kernelspec": {
   "display_name": "Python 3",
   "language": "python",
   "name": "python3"
  },
  "language_info": {
   "codemirror_mode": {
    "name": "ipython",
    "version": 3
   },
   "file_extension": ".py",
   "mimetype": "text/x-python",
   "name": "python",
   "nbconvert_exporter": "python",
   "pygments_lexer": "ipython3",
   "version": "3.9.13"
  }
 },
 "nbformat": 4,
 "nbformat_minor": 2
}
